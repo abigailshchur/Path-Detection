{
 "cells": [
  {
   "cell_type": "code",
   "execution_count": 1,
   "metadata": {},
   "outputs": [
    {
     "name": "stderr",
     "output_type": "stream",
     "text": [
      "Using TensorFlow backend.\n"
     ]
    }
   ],
   "source": [
    "import json\n",
    "import numpy as np\n",
    "from numpy import array\n",
    "from keras.models import Sequential\n",
    "from keras.layers import Dense\n",
    "from keras.layers import Dropout\n",
    "from keras.layers import LSTM\n",
    "from keras.utils.np_utils import to_categorical\n",
    "from keras.layers import TimeDistributed\n",
    "from collections import defaultdict"
   ]
  },
  {
   "cell_type": "markdown",
   "metadata": {},
   "source": [
    "### Loading in All Data:"
   ]
  },
  {
   "cell_type": "code",
   "execution_count": 2,
   "metadata": {
    "collapsed": true
   },
   "outputs": [],
   "source": [
    "with open('saved_frame_data/M_1_2_everything.json') as data_file:    \n",
    "    M_1_everything = json.load(data_file)\n",
    "with open('saved_frame_data/M_1_2_labels.json') as data_file:    \n",
    "    M_1_labels = json.load(data_file)"
   ]
  },
  {
   "cell_type": "code",
   "execution_count": 3,
   "metadata": {
    "collapsed": true
   },
   "outputs": [],
   "source": [
    "with open('saved_frame_data/M_2_2_everything.json') as data_file:    \n",
    "    M_2_everything = json.load(data_file)\n",
    "with open('saved_frame_data/M_2_2_labels.json') as data_file:    \n",
    "    M_2_labels = json.load(data_file)"
   ]
  },
  {
   "cell_type": "code",
   "execution_count": 4,
   "metadata": {
    "collapsed": true
   },
   "outputs": [],
   "source": [
    "with open('saved_frame_data/M_3_2_everything.json') as data_file:    \n",
    "    M_3_everything = json.load(data_file)\n",
    "with open('saved_frame_data/M_3_labels.json') as data_file:    \n",
    "    M_3_labels = json.load(data_file)"
   ]
  },
  {
   "cell_type": "code",
   "execution_count": 5,
   "metadata": {
    "collapsed": true
   },
   "outputs": [],
   "source": [
    "with open('saved_frame_data/M_4_2_everything.json') as data_file:    \n",
    "    M_4_everything = json.load(data_file)\n",
    "with open('saved_frame_data/M_4_labels.json') as data_file:    \n",
    "    M_4_labels = json.load(data_file)"
   ]
  },
  {
   "cell_type": "code",
   "execution_count": 6,
   "metadata": {
    "collapsed": true
   },
   "outputs": [],
   "source": [
    "with open('saved_frame_data/T_1_2_everything.json') as data_file:    \n",
    "    T_1_everything = json.load(data_file)\n",
    "with open('saved_frame_data/T_1_labels.json') as data_file:    \n",
    "    T_1_labels = json.load(data_file)"
   ]
  },
  {
   "cell_type": "code",
   "execution_count": 7,
   "metadata": {
    "collapsed": true
   },
   "outputs": [],
   "source": [
    "with open('saved_frame_data/T_2_2_everything.json') as data_file:    \n",
    "    T_2_everything = json.load(data_file)\n",
    "with open('saved_frame_data/T_2_labels.json') as data_file:    \n",
    "    T_2_labels = json.load(data_file)"
   ]
  },
  {
   "cell_type": "code",
   "execution_count": 8,
   "metadata": {
    "collapsed": true
   },
   "outputs": [],
   "source": [
    "with open('saved_frame_data/T_3_2_everything.json') as data_file:    \n",
    "    T_3_everything = json.load(data_file)\n",
    "with open('saved_frame_data/T_3_labels.json') as data_file:    \n",
    "    T_3_labels = json.load(data_file)"
   ]
  },
  {
   "cell_type": "code",
   "execution_count": 9,
   "metadata": {
    "collapsed": true
   },
   "outputs": [],
   "source": [
    "with open('saved_frame_data/BJ_1_everything.json') as data_file:    \n",
    "    BJ_everything = json.load(data_file)\n",
    "with open('saved_frame_data/BJ_1_labels.json') as data_file:    \n",
    "    BJ_labels = json.load(data_file)"
   ]
  },
  {
   "cell_type": "code",
   "execution_count": 10,
   "metadata": {
    "collapsed": true
   },
   "outputs": [],
   "source": [
    "with open('saved_frame_data/L_1_everything.json') as data_file:    \n",
    "    L1_everything = json.load(data_file)\n",
    "with open('saved_frame_data/L_1_labels.json') as data_file:    \n",
    "    L1_labels = json.load(data_file)"
   ]
  },
  {
   "cell_type": "code",
   "execution_count": 11,
   "metadata": {
    "collapsed": true
   },
   "outputs": [],
   "source": [
    "with open('saved_frame_data/L_2_everything.json') as data_file:    \n",
    "    L2_everything = json.load(data_file)\n",
    "with open('saved_frame_data/L_2_labels.json') as data_file:    \n",
    "    L2_labels = json.load(data_file)"
   ]
  },
  {
   "cell_type": "code",
   "execution_count": 12,
   "metadata": {
    "collapsed": true
   },
   "outputs": [],
   "source": [
    "with open('saved_frame_data/L_3_everything.json') as data_file:    \n",
    "    L3_everything = json.load(data_file)\n",
    "with open('saved_frame_data/L_3_labels.json') as data_file:    \n",
    "    L3_labels = json.load(data_file)"
   ]
  },
  {
   "cell_type": "code",
   "execution_count": 13,
   "metadata": {
    "collapsed": true
   },
   "outputs": [],
   "source": [
    "with open('saved_frame_data/L_4_everything.json') as data_file:    \n",
    "    L4_everything = json.load(data_file)\n",
    "with open('saved_frame_data/L_4_labels.json') as data_file:    \n",
    "    L4_labels = json.load(data_file)"
   ]
  },
  {
   "cell_type": "markdown",
   "metadata": {},
   "source": [
    "### Combining Data into One Set:"
   ]
  },
  {
   "cell_type": "code",
   "execution_count": 14,
   "metadata": {
    "collapsed": true
   },
   "outputs": [],
   "source": [
    "def bucket_vectors(vect):\n",
    "    if vect[0] <= 0:\n",
    "        return 0 # left\n",
    "    return 1 # right"
   ]
  },
  {
   "cell_type": "code",
   "execution_count": 15,
   "metadata": {
    "collapsed": true
   },
   "outputs": [],
   "source": [
    "def bucket_box(box):\n",
    "    center_x = (box[3]+box[1])/2.0\n",
    "    if center_x < 0.5:\n",
    "        return 0 # left\n",
    "    return 1 # right"
   ]
  },
  {
   "cell_type": "code",
   "execution_count": 16,
   "metadata": {
    "collapsed": true
   },
   "outputs": [],
   "source": [
    "def get_X_and_Y(all_data, all_labels, frame_thresh, time_steps):\n",
    "    person_to_boxes = defaultdict(list)\n",
    "    person_to_flow = defaultdict(list)\n",
    "    person_to_flow_x = defaultdict(list)\n",
    "    for entry in all_data:\n",
    "        if all_labels[str(entry['person_id'])] != \"unknown\":\n",
    "            person_to_boxes[entry['person_id']].append(entry['box'])\n",
    "            person_to_flow[entry['person_id']].append((entry['direction'], entry['direction2']))\n",
    "            person_to_flow_x[entry['person_id']].append((entry['flow'][0], entry['flow2'][0]))\n",
    "    person_to_boxes2 = defaultdict(list)\n",
    "    person_to_flow2 = defaultdict(list)\n",
    "    person_to_flow_x2 = defaultdict(list)\n",
    "    for person in person_to_boxes:\n",
    "        if len(person_to_boxes[person])>=frame_thresh:\n",
    "            person_to_boxes2[person] = person_to_boxes[person]\n",
    "            person_to_flow2[person] = person_to_flow[person]\n",
    "            person_to_flow_x2[person] = person_to_flow_x[person]\n",
    "    person_to_boxes = person_to_boxes2\n",
    "    person_to_flow = person_to_flow2\n",
    "    person_to_flow_x = person_to_flow_x2\n",
    "    X = []\n",
    "    y = []\n",
    "    dir_init = []\n",
    "    dir_later = []\n",
    "    pos_init = []\n",
    "    pos_later = []\n",
    "    num_frames = []\n",
    "    for person in person_to_flow:\n",
    "        person_data = []\n",
    "        for i in range(time_steps):\n",
    "            flow = person_to_flow_x[person][i]\n",
    "            box = person_to_boxes[person][i]\n",
    "            if flow[0]==\"n\":\n",
    "                entry = [0.0, 0.0, float(box[0]), float(box[1]), float(box[2]), float(box[3])]\n",
    "            else:\n",
    "                entry = [float(flow[0]), float(flow[1]), float(box[0]), float(box[1]), float(box[2]), float(box[3])]\n",
    "            person_data.append(entry)\n",
    "        X.append(person_data)\n",
    "        num_frames.append(len(person_to_boxes[person]))\n",
    "        dir_init.append(bucket_vectors(person_to_flow_x[person][0]))\n",
    "        dir_later.append(bucket_vectors(person_to_flow_x[person][time_steps]))\n",
    "        pos_init.append(bucket_box(person_to_boxes[person][0]))\n",
    "        pos_later.append(bucket_box(person_to_boxes[person][time_steps]))\n",
    "        if (all_labels[str(person)][0] == \"l\"):\n",
    "            y.append(0)\n",
    "        else:\n",
    "            y.append(1)\n",
    "    return X,y, dir_init, dir_later, pos_init, pos_later, num_frames"
   ]
  },
  {
   "cell_type": "code",
   "execution_count": 17,
   "metadata": {
    "collapsed": true
   },
   "outputs": [],
   "source": [
    "threshold = 10\n",
    "num_time_steps = 5\n",
    "dim_data = 6\n",
    "X1,y1, d_init1, d_lat1, p_init1, p_lat1, n_frames1 = get_X_and_Y(M_1_everything, M_1_labels, threshold, num_time_steps)\n",
    "X2,y2, d_init2, d_lat2, p_init2, p_lat2, n_frames2 = get_X_and_Y(M_2_everything, M_2_labels, threshold, num_time_steps)\n",
    "X3,y3, d_init3, d_lat3, p_init3, p_lat3, n_frames3 = get_X_and_Y(M_3_everything, M_3_labels, threshold, num_time_steps)\n",
    "X4,y4, d_init4, d_lat4, p_init4, p_lat4, n_frames4 = get_X_and_Y(M_4_everything, M_4_labels, threshold, num_time_steps)\n",
    "X5,y5, d_init5, d_lat5, p_init5, p_lat5, n_frames5 = get_X_and_Y(T_1_everything, T_1_labels, threshold, num_time_steps)\n",
    "X6,y6, d_init6, d_lat6, p_init6, p_lat6, n_frames6 = get_X_and_Y(T_2_everything, T_2_labels, threshold, num_time_steps)\n",
    "X7,y7, d_init7, d_lat7, p_init7, p_lat7, n_frames7 = get_X_and_Y(T_3_everything, T_3_labels, threshold, num_time_steps)\n",
    "X8,y8, d_init8, d_lat8, p_init8, p_lat8, n_frames8 = get_X_and_Y(BJ_everything, BJ_labels, threshold, num_time_steps)\n",
    "X9,y9, d_init9, d_lat9, p_init9, p_lat9, n_frames9 = get_X_and_Y(L1_everything, L1_labels, threshold, num_time_steps)\n",
    "X10,y10, d_init10, d_lat10, p_init10, p_lat10, n_frames10 = get_X_and_Y(L2_everything, L2_labels, threshold, num_time_steps)\n",
    "X11,y11, d_init11, d_lat11, p_init11, p_lat11, n_frames11 = get_X_and_Y(L3_everything, L3_labels, threshold, num_time_steps)\n",
    "X12,y12, d_init12, d_lat12, p_init12, p_lat12, n_frames12 = get_X_and_Y(L4_everything, L4_labels, threshold, num_time_steps)\n",
    "#X = X1 + X2 +  X5  + X6 + X3 + X7\n",
    "X = X5 + X6 + X7 + X8 + X9 + X10 + X11 + X12\n",
    "#y = y1 + y2 +  y5  + y6 + y3 + y7\n",
    "y = y5 + y6 + y7 + y8 + y9 + y10 + y11 + y12\n",
    "#pos_init_train = p_init1 + p_init2 + p_init5 + p_init6  + p_init3 + p_init7\n",
    "pos_init_train = p_init5 + p_init6 + p_init7 + p_init8  + p_init9 + p_init10 + p_init11 + p_init12\n",
    "#pos_lat_train = p_lat1 + p_lat2 + p_lat5 + p_lat6  + p_lat3 + p_lat7\n",
    "pos_lat_train = p_lat5 + p_lat6 + p_lat7 + p_lat8  + p_lat9 + p_lat10 + p_lat11 + p_lat12\n",
    "#d_init_train = d_init1 + d_init2 + d_init5 + d_init6  + d_init3 + d_init7\n",
    "d_init_train = d_init5 + d_init6 + d_init7 + d_init8  + d_init9 + d_init10 + d_init11 + d_init12\n",
    "#d_lat_train = d_lat1 + d_lat2 + d_lat5 + d_lat6  + d_lat3 + d_lat7\n",
    "d_lat_train = d_lat5 + d_lat6 + d_lat7 + d_lat8  + d_lat9 + d_lat10 + d_lat11 + d_lat12\n",
    "num_examples = len(X)"
   ]
  },
  {
   "cell_type": "code",
   "execution_count": 18,
   "metadata": {},
   "outputs": [
    {
     "name": "stdout",
     "output_type": "stream",
     "text": [
      "We have 381 total TRAINING examples\n",
      "We have 221 total TESTING examples\n"
     ]
    }
   ],
   "source": [
    "X_train = array(X).reshape(num_examples, num_time_steps , dim_data)\n",
    "print(\"We have %d total TRAINING examples\" % np.shape(X_train)[0])\n",
    "Y_train = array(y)\n",
    "# X_test = X9 + X4 + X10 + X11 + X12\n",
    "X_test = X1 + X2 + X3 + X4\n",
    "X_test = array(X_test).reshape(len(X_test), num_time_steps , dim_data)\n",
    "#pos_init_test = p_init9 + p_init4 + p_init10 + p_init11+ p_init12\n",
    "pos_init_test = p_init1 + p_init2 + p_init3 + p_init4\n",
    "#pos_lat_test = p_lat9 + p_lat4 + p_lat10 + p_lat11 + p_lat12\n",
    "pos_lat_test = p_lat1 + p_lat2 + p_lat3 + p_lat4\n",
    "#d_init_test = d_init9 + d_init4 + d_init10 + d_init11 + d_init12\n",
    "d_init_test = d_init1 + d_init2 + d_init3 + d_init4\n",
    "#d_lat_test = d_lat9 + d_lat4 + d_lat10 + d_lat11 + d_lat12\n",
    "d_lat_test = d_lat1 + d_lat2 + d_lat3 + d_lat4\n",
    "print(\"We have %d total TESTING examples\" % np.shape(X_test)[0])\n",
    "#Y_test = y9 + y4 + y10 + y11 + y12\n",
    "Y_test = y1 + y2 + y3 + y4\n",
    "Y_test = array(Y_test)"
   ]
  },
  {
   "cell_type": "markdown",
   "metadata": {},
   "source": [
    "### Lets Look at Our Data"
   ]
  },
  {
   "cell_type": "code",
   "execution_count": 19,
   "metadata": {},
   "outputs": [
    {
     "name": "stdout",
     "output_type": "stream",
     "text": [
      "215 people pass to the LEFT\n",
      "166 people pass to the RIGHT\n"
     ]
    }
   ],
   "source": [
    "count_right = len([i for i in Y_train if i==1])\n",
    "print(\"%d people pass to the LEFT\" % (len(Y_train) - count_right))\n",
    "print(\"%d people pass to the RIGHT\" % (count_right))"
   ]
  },
  {
   "cell_type": "markdown",
   "metadata": {},
   "source": [
    "### Baseline 1 Training"
   ]
  },
  {
   "cell_type": "code",
   "execution_count": 20,
   "metadata": {},
   "outputs": [
    {
     "name": "stdout",
     "output_type": "stream",
     "text": [
      "In Training, 165 people start on the LEFT and pass on the LEFT\n",
      "In Training, 160 people start on the RIGHT and pass on the RIGHT\n",
      "In Training, 6 people start on the LEFT and pass on the RIGHT\n",
      "In Training, 50 people start on the RIGHT and pass on the LEFT\n",
      "Total correct in Training given baseline is 325/381\n",
      "The percentage is 85.30\n"
     ]
    }
   ],
   "source": [
    "l_l = 0; r_r = 0; l_r = 0; r_l = 0;\n",
    "for i in range(len(Y_train)):\n",
    "    if pos_init_train[i] == 0:\n",
    "        if Y_train[i] == 0:\n",
    "            l_l+=1\n",
    "        else:\n",
    "            l_r+=1\n",
    "    else:\n",
    "        if Y_train[i] == 0:\n",
    "            r_l+=1\n",
    "        else:\n",
    "            r_r+=1\n",
    "print(\"In Training, %d people start on the LEFT and pass on the LEFT\" % l_l)\n",
    "print(\"In Training, %d people start on the RIGHT and pass on the RIGHT\" % r_r)\n",
    "print(\"In Training, %d people start on the LEFT and pass on the RIGHT\" % l_r)\n",
    "print(\"In Training, %d people start on the RIGHT and pass on the LEFT\" % r_l)\n",
    "print(\"Total correct in Training given baseline is \" + str(l_l+r_r) + \"/\" + str(l_l+r_r+l_r+r_l))\n",
    "print(\"The percentage is %0.2f\" % (100*(l_l+r_r)/(1.0*(l_l+r_r+l_r+r_l))))"
   ]
  },
  {
   "cell_type": "code",
   "execution_count": 21,
   "metadata": {},
   "outputs": [
    {
     "name": "stdout",
     "output_type": "stream",
     "text": [
      "In Training, 167 people start on the LEFT and pass on the LEFT\n",
      "In Training, 160 people start on the RIGHT and pass on the RIGHT\n",
      "In Training, 6 people start on the LEFT and pass on the RIGHT\n",
      "In Training, 48 people start on the RIGHT and pass on the LEFT\n",
      "Total correct in Training given baseline is 327/381\n",
      "The percentage is 85.83\n"
     ]
    }
   ],
   "source": [
    "l_l = 0; r_r = 0; l_r = 0; r_l = 0;\n",
    "for i in range(len(Y_train)):\n",
    "    if pos_lat_train[i] == 0:\n",
    "        if Y_train[i] == 0:\n",
    "            l_l+=1\n",
    "        else:\n",
    "            l_r+=1\n",
    "    else:\n",
    "        if Y_train[i] == 0:\n",
    "            r_l+=1\n",
    "        else:\n",
    "            r_r+=1\n",
    "print(\"In Training, %d people start on the LEFT and pass on the LEFT\" % l_l)\n",
    "print(\"In Training, %d people start on the RIGHT and pass on the RIGHT\" % r_r)\n",
    "print(\"In Training, %d people start on the LEFT and pass on the RIGHT\" % l_r)\n",
    "print(\"In Training, %d people start on the RIGHT and pass on the LEFT\" % r_l)\n",
    "print(\"Total correct in Training given baseline is \" + str(l_l+r_r) + \"/\" + str(l_l+r_r+l_r+r_l))\n",
    "print(\"The percentage is %0.2f\" % (100*(l_l+r_r)/(1.0*(l_l+r_r+l_r+r_l))))"
   ]
  },
  {
   "cell_type": "markdown",
   "metadata": {},
   "source": [
    "### Baseline 2 Training"
   ]
  },
  {
   "cell_type": "code",
   "execution_count": 22,
   "metadata": {},
   "outputs": [
    {
     "name": "stdout",
     "output_type": "stream",
     "text": [
      "In Training, 70 people move towards the LEFT and pass on the LEFT\n",
      "In Training, 144 people move towards the RIGHT and pass on the RIGHT\n",
      "In Training, 22 people move towards the LEFT and pass on the RIGHT\n",
      "In Training, 145 people move towards the RIGHT and pass on the LEFT\n",
      "Total correct in Training given baseline is 214/381\n",
      "The percentage is 56.17\n"
     ]
    }
   ],
   "source": [
    "l_l = 0; r_r = 0; l_r = 0; r_l = 0;\n",
    "for i in range(len(Y_train)):\n",
    "    if d_init_train[i] == 0:\n",
    "        if Y_train[i] == 0:\n",
    "            l_l+=1\n",
    "        else:\n",
    "            l_r+=1\n",
    "    else:\n",
    "        if Y_train[i] == 0:\n",
    "            r_l+=1\n",
    "        else:\n",
    "            r_r+=1\n",
    "print(\"In Training, %d people move towards the LEFT and pass on the LEFT\" % l_l)\n",
    "print(\"In Training, %d people move towards the RIGHT and pass on the RIGHT\" % r_r)\n",
    "print(\"In Training, %d people move towards the LEFT and pass on the RIGHT\" % l_r)\n",
    "print(\"In Training, %d people move towards the RIGHT and pass on the LEFT\" % r_l)\n",
    "print(\"Total correct in Training given baseline is \" + str(l_l+r_r) + \"/\" + str(l_l+r_r+l_r+r_l))\n",
    "print(\"The percentage is %0.2f\" % (100*(l_l+r_r)/(1.0*(l_l+r_r+l_r+r_l))))"
   ]
  },
  {
   "cell_type": "code",
   "execution_count": 23,
   "metadata": {},
   "outputs": [
    {
     "name": "stdout",
     "output_type": "stream",
     "text": [
      "In Training, 65 people move towards the LEFT and pass on the LEFT\n",
      "In Training, 151 people move towards the RIGHT and pass on the RIGHT\n",
      "In Training, 15 people move towards the LEFT and pass on the RIGHT\n",
      "In Training, 150 people move towards the RIGHT and pass on the LEFT\n",
      "Total correct in Training given baseline is 216/381\n",
      "The percentage is 56.69\n"
     ]
    }
   ],
   "source": [
    "l_l = 0; r_r = 0; l_r = 0; r_l = 0;\n",
    "for i in range(len(Y_train)):\n",
    "    if d_lat_train[i] == 0:\n",
    "        if Y_train[i] == 0:\n",
    "            l_l+=1\n",
    "        else:\n",
    "            l_r+=1\n",
    "    else:\n",
    "        if Y_train[i] == 0:\n",
    "            r_l+=1\n",
    "        else:\n",
    "            r_r+=1\n",
    "print(\"In Training, %d people move towards the LEFT and pass on the LEFT\" % l_l)\n",
    "print(\"In Training, %d people move towards the RIGHT and pass on the RIGHT\" % r_r)\n",
    "print(\"In Training, %d people move towards the LEFT and pass on the RIGHT\" % l_r)\n",
    "print(\"In Training, %d people move towards the RIGHT and pass on the LEFT\" % r_l)\n",
    "print(\"Total correct in Training given baseline is \" + str(l_l+r_r) + \"/\" + str(l_l+r_r+l_r+r_l))\n",
    "print(\"The percentage is %0.2f\" % (100*(l_l+r_r)/(1.0*(l_l+r_r+l_r+r_l))))"
   ]
  },
  {
   "cell_type": "markdown",
   "metadata": {},
   "source": [
    "### Baseline TESTING"
   ]
  },
  {
   "cell_type": "code",
   "execution_count": 24,
   "metadata": {},
   "outputs": [
    {
     "name": "stdout",
     "output_type": "stream",
     "text": [
      "In Testing, 94 people start on the LEFT and pass on the LEFT\n",
      "In Testing, 68 people start on the RIGHT and pass on the RIGHT\n",
      "In Testing, 4 people start on the LEFT and pass on the RIGHT\n",
      "In Testing, 55 people start on the RIGHT and pass on the LEFT\n",
      "Total correct in Testing given baseline is 162/221\n",
      "The percentage is 73.30\n"
     ]
    }
   ],
   "source": [
    "l_l = 0; r_r = 0; l_r = 0; r_l = 0;\n",
    "for i in range(len(Y_test)):\n",
    "    if pos_init_test[i] == 0:\n",
    "        if Y_test[i] == 0:\n",
    "            l_l+=1\n",
    "        else:\n",
    "            l_r+=1\n",
    "    else:\n",
    "        if Y_test[i] == 0:\n",
    "            r_l+=1\n",
    "        else:\n",
    "            r_r+=1\n",
    "print(\"In Testing, %d people start on the LEFT and pass on the LEFT\" % l_l)\n",
    "print(\"In Testing, %d people start on the RIGHT and pass on the RIGHT\" % r_r)\n",
    "print(\"In Testing, %d people start on the LEFT and pass on the RIGHT\" % l_r)\n",
    "print(\"In Testing, %d people start on the RIGHT and pass on the LEFT\" % r_l)\n",
    "print(\"Total correct in Testing given baseline is \" + str(l_l+r_r) + \"/\" + str(l_l+r_r+l_r+r_l))\n",
    "print(\"The percentage is %0.2f\" % (100*(l_l+r_r)/(1.0*(l_l+r_r+l_r+r_l))))"
   ]
  },
  {
   "cell_type": "code",
   "execution_count": 25,
   "metadata": {
    "scrolled": true
   },
   "outputs": [
    {
     "name": "stdout",
     "output_type": "stream",
     "text": [
      "In Testing, 94 people start on the LEFT and pass on the LEFT\n",
      "In Testing, 68 people start on the RIGHT and pass on the RIGHT\n",
      "In Testing, 4 people start on the LEFT and pass on the RIGHT\n",
      "In Testing, 55 people start on the RIGHT and pass on the LEFT\n",
      "Total correct in Testing given baseline is 162/221\n",
      "The percentage is 73.30\n"
     ]
    }
   ],
   "source": [
    "l_l = 0; r_r = 0; l_r = 0; r_l = 0;\n",
    "for i in range(len(Y_test)):\n",
    "    if pos_lat_test[i] == 0:\n",
    "        if Y_test[i] == 0:\n",
    "            l_l+=1\n",
    "        else:\n",
    "            l_r+=1\n",
    "    else:\n",
    "        if Y_test[i] == 0:\n",
    "            r_l+=1\n",
    "        else:\n",
    "            r_r+=1\n",
    "print(\"In Testing, %d people start on the LEFT and pass on the LEFT\" % l_l)\n",
    "print(\"In Testing, %d people start on the RIGHT and pass on the RIGHT\" % r_r)\n",
    "print(\"In Testing, %d people start on the LEFT and pass on the RIGHT\" % l_r)\n",
    "print(\"In Testing, %d people start on the RIGHT and pass on the LEFT\" % r_l)\n",
    "print(\"Total correct in Testing given baseline is \" + str(l_l+r_r) + \"/\" + str(l_l+r_r+l_r+r_l))\n",
    "print(\"The percentage is %0.2f\" % (100*(l_l+r_r)/(1.0*(l_l+r_r+l_r+r_l))))"
   ]
  },
  {
   "cell_type": "markdown",
   "metadata": {},
   "source": [
    "### Baseline 2 (Testing):"
   ]
  },
  {
   "cell_type": "code",
   "execution_count": 26,
   "metadata": {},
   "outputs": [
    {
     "name": "stdout",
     "output_type": "stream",
     "text": [
      "In Testing, 71 people start on the LEFT and pass on the LEFT\n",
      "In Testing, 60 people start on the RIGHT and pass on the RIGHT\n",
      "In Testing, 12 people start on the LEFT and pass on the RIGHT\n",
      "In Testing, 78 people start on the RIGHT and pass on the LEFT\n",
      "Total correct in Testing given baseline is 131/221\n",
      "The percentage is 59.28\n"
     ]
    }
   ],
   "source": [
    "l_l = 0; r_r = 0; l_r = 0; r_l = 0;\n",
    "for i in range(len(Y_test)):\n",
    "    if d_init_test[i] == 0:\n",
    "        if Y_test[i] == 0:\n",
    "            l_l+=1\n",
    "        else:\n",
    "            l_r+=1\n",
    "    else:\n",
    "        if Y_test[i] == 0:\n",
    "            r_l+=1\n",
    "        else:\n",
    "            r_r+=1\n",
    "print(\"In Testing, %d people start on the LEFT and pass on the LEFT\" % l_l)\n",
    "print(\"In Testing, %d people start on the RIGHT and pass on the RIGHT\" % r_r)\n",
    "print(\"In Testing, %d people start on the LEFT and pass on the RIGHT\" % l_r)\n",
    "print(\"In Testing, %d people start on the RIGHT and pass on the LEFT\" % r_l)\n",
    "print(\"Total correct in Testing given baseline is \" + str(l_l+r_r) + \"/\" + str(l_l+r_r+l_r+r_l))\n",
    "print(\"The percentage is %0.2f\" % (100*(l_l+r_r)/(1.0*(l_l+r_r+l_r+r_l))))"
   ]
  },
  {
   "cell_type": "code",
   "execution_count": 46,
   "metadata": {},
   "outputs": [
    {
     "name": "stdout",
     "output_type": "stream",
     "text": [
      "Total non tradit 59\n",
      "Total correct non tradit 6\n",
      "percentage 10.17\n"
     ]
    }
   ],
   "source": [
    "## Non traditional baseline 2\n",
    "l_l = 0; r_r = 0; l_r = 0; r_l = 0;\n",
    "l_l_c = 0; r_r_c = 0; l_r_c = 0; r_l_c = 0;\n",
    "for i in range(len(Y_test)):\n",
    "    pred = d_init_test[i]\n",
    "    if pos_init_test[i] == 0:\n",
    "        if Y_test[i] == 0:\n",
    "            l_l+=1\n",
    "            if (pred == Y_test[i]):\n",
    "                l_l_c+=1\n",
    "        else:\n",
    "            l_r+=1\n",
    "            if (pred == Y_test[i]):\n",
    "                l_r_c+=1\n",
    "    else:\n",
    "        if Y_test[i] == 0:\n",
    "            r_l+=1\n",
    "            if (pred == Y_test[i]):\n",
    "                r_l_c+=1\n",
    "        else:\n",
    "            r_r+=1\n",
    "            if (pred == Y_test[i]):\n",
    "                r_r_c+=1\n",
    "print(\"Total non tradit %d\" % (l_r + r_l))\n",
    "print(\"Total correct non tradit %d\" % (l_r_c + r_l_c))\n",
    "print(\"percentage %0.2f\" % ((100*(l_r_c + r_l_c))/(1.0*(l_r + r_l))))"
   ]
  },
  {
   "cell_type": "code",
   "execution_count": 27,
   "metadata": {},
   "outputs": [
    {
     "name": "stdout",
     "output_type": "stream",
     "text": [
      "In Testing, 71 people start on the LEFT and pass on the LEFT\n",
      "In Testing, 63 people start on the RIGHT and pass on the RIGHT\n",
      "In Testing, 9 people start on the LEFT and pass on the RIGHT\n",
      "In Testing, 78 people start on the RIGHT and pass on the LEFT\n",
      "Total correct in Testing given baseline is 134/221\n",
      "The percentage is 60.63\n"
     ]
    }
   ],
   "source": [
    "l_l = 0; r_r = 0; l_r = 0; r_l = 0;\n",
    "for i in range(len(Y_test)):\n",
    "    if d_lat_test[i] == 0:\n",
    "        if Y_test[i] == 0:\n",
    "            l_l+=1\n",
    "        else:\n",
    "            l_r+=1\n",
    "    else:\n",
    "        if Y_test[i] == 0:\n",
    "            r_l+=1\n",
    "        else:\n",
    "            r_r+=1\n",
    "print(\"In Testing, %d people start on the LEFT and pass on the LEFT\" % l_l)\n",
    "print(\"In Testing, %d people start on the RIGHT and pass on the RIGHT\" % r_r)\n",
    "print(\"In Testing, %d people start on the LEFT and pass on the RIGHT\" % l_r)\n",
    "print(\"In Testing, %d people start on the RIGHT and pass on the LEFT\" % r_l)\n",
    "print(\"Total correct in Testing given baseline is \" + str(l_l+r_r) + \"/\" + str(l_l+r_r+l_r+r_l))\n",
    "print(\"The percentage is %0.2f\" % (100*(l_l+r_r)/(1.0*(l_l+r_r+l_r+r_l))))"
   ]
  },
  {
   "cell_type": "markdown",
   "metadata": {},
   "source": [
    "### LSTM:"
   ]
  },
  {
   "cell_type": "code",
   "execution_count": 39,
   "metadata": {
    "collapsed": true
   },
   "outputs": [],
   "source": [
    "model = Sequential()\n",
    "#model.add(LSTM(50, input_shape=(num_time_steps, dim_data), return_sequences=True))\n",
    "model.add(LSTM(30, input_shape=(num_time_steps, dim_data)))\n",
    "model.add(Dense(1))"
   ]
  },
  {
   "cell_type": "code",
   "execution_count": 40,
   "metadata": {},
   "outputs": [
    {
     "name": "stdout",
     "output_type": "stream",
     "text": [
      "_________________________________________________________________\n",
      "Layer (type)                 Output Shape              Param #   \n",
      "=================================================================\n",
      "lstm_2 (LSTM)                (None, 30)                4440      \n",
      "_________________________________________________________________\n",
      "dense_2 (Dense)              (None, 1)                 31        \n",
      "=================================================================\n",
      "Total params: 4,471\n",
      "Trainable params: 4,471\n",
      "Non-trainable params: 0\n",
      "_________________________________________________________________\n",
      "None\n"
     ]
    }
   ],
   "source": [
    "model.compile(loss='binary_crossentropy', optimizer='adam', metrics=['acc'])\n",
    "print(model.summary())"
   ]
  },
  {
   "cell_type": "code",
   "execution_count": 41,
   "metadata": {},
   "outputs": [
    {
     "data": {
      "text/plain": [
       "<keras.callbacks.History at 0x140124e50>"
      ]
     },
     "execution_count": 41,
     "metadata": {},
     "output_type": "execute_result"
    }
   ],
   "source": [
    "model.fit(X_train, Y_train, epochs=100, batch_size=5, verbose=0)"
   ]
  },
  {
   "cell_type": "code",
   "execution_count": 42,
   "metadata": {
    "collapsed": true
   },
   "outputs": [],
   "source": [
    "def summarize_success(X, Y, model, init_pos):\n",
    "    l_l = 0; r_r = 0; l_r = 0; r_l = 0;\n",
    "    l_l_c = 0; r_r_c = 0; l_r_c = 0; r_l_c = 0;\n",
    "    preds = []\n",
    "    for i in range(len(Y)):\n",
    "        pred = model.predict_classes(array([X[i]]), batch_size=1, verbose=0)[0][0]\n",
    "        preds.append(pred)\n",
    "        if init_pos[i] == 0:\n",
    "            if Y[i] == 0:\n",
    "                l_l+=1\n",
    "                if (pred == Y[i]):\n",
    "                    l_l_c+=1\n",
    "            else:\n",
    "                l_r+=1\n",
    "                if (pred == Y[i]):\n",
    "                    l_r_c+=1\n",
    "        else:\n",
    "            if Y[i] == 0:\n",
    "                r_l+=1\n",
    "                if (pred == Y[i]):\n",
    "                    r_l_c+=1\n",
    "            else:\n",
    "                r_r+=1\n",
    "                if (pred == Y[i]):\n",
    "                    r_r_c+=1\n",
    "    print(\"There are %d examples total\" % len(Y))\n",
    "    print(\"We classify %d of those correctly\" % (l_l_c+l_r_c+r_l_c+r_r_c))\n",
    "    print(\"That is %0.2f of those\" % ((100*(l_l_c+l_r_c+r_l_c+r_r_c))/(1.0*len(Y))))\n",
    "    print(\"There are %d normal people\" % (l_l+r_r))\n",
    "    print(\"We classify %d of those correctly\" % (l_l_c+r_r_c))\n",
    "    print(\"That is %0.2f of those\" % ((100*(l_l_c+r_r_c))/(1.0*(l_l+r_r))))\n",
    "    print(\"There are %d abnormal people\" % (l_r+r_l))\n",
    "    print(\"We classify %d of those correctly\" % (l_r_c+r_l_c))\n",
    "    print(\"That is %0.2f of those\" % ((100*(l_r_c+r_l_c))/(1.0*(l_r+r_l))))\n",
    "    return preds"
   ]
  },
  {
   "cell_type": "code",
   "execution_count": 43,
   "metadata": {},
   "outputs": [
    {
     "name": "stdout",
     "output_type": "stream",
     "text": [
      "There are 381 examples total\n",
      "We classify 346 of those correctly\n",
      "That is 90.81 of those\n",
      "There are 325 normal people\n",
      "We classify 319 of those correctly\n",
      "That is 98.15 of those\n",
      "There are 56 abnormal people\n",
      "We classify 27 of those correctly\n",
      "That is 48.21 of those\n"
     ]
    }
   ],
   "source": [
    "predictions_train = summarize_success(X_train, Y_train, model, pos_init_train)"
   ]
  },
  {
   "cell_type": "code",
   "execution_count": 44,
   "metadata": {},
   "outputs": [
    {
     "name": "stdout",
     "output_type": "stream",
     "text": [
      "There are 221 examples total\n",
      "We classify 165 of those correctly\n",
      "That is 74.66 of those\n",
      "There are 162 normal people\n",
      "We classify 152 of those correctly\n",
      "That is 93.83 of those\n",
      "There are 59 abnormal people\n",
      "We classify 13 of those correctly\n",
      "That is 22.03 of those\n"
     ]
    }
   ],
   "source": [
    "predictions_test = summarize_success(X_test, Y_test, model, pos_init_test)"
   ]
  },
  {
   "cell_type": "code",
   "execution_count": null,
   "metadata": {
    "collapsed": true
   },
   "outputs": [],
   "source": []
  }
 ],
 "metadata": {
  "kernelspec": {
   "display_name": "Python 2",
   "language": "python",
   "name": "python2"
  },
  "language_info": {
   "codemirror_mode": {
    "name": "ipython",
    "version": 2
   },
   "file_extension": ".py",
   "mimetype": "text/x-python",
   "name": "python",
   "nbconvert_exporter": "python",
   "pygments_lexer": "ipython2",
   "version": "2.7.13"
  }
 },
 "nbformat": 4,
 "nbformat_minor": 2
}
