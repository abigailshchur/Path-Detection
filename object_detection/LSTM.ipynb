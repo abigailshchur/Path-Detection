{
 "cells": [
  {
   "cell_type": "code",
   "execution_count": 1,
   "metadata": {},
   "outputs": [
    {
     "name": "stderr",
     "output_type": "stream",
     "text": [
      "Using TensorFlow backend.\n"
     ]
    }
   ],
   "source": [
    "import json\n",
    "import numpy as np\n",
    "from numpy import array\n",
    "from keras.models import Sequential\n",
    "from keras.layers import Dense\n",
    "from keras.layers import Dropout\n",
    "from keras.layers import LSTM\n",
    "from keras.utils.np_utils import to_categorical\n",
    "from keras.layers import TimeDistributed\n",
    "from collections import defaultdict"
   ]
  },
  {
   "cell_type": "markdown",
   "metadata": {},
   "source": [
    "### Loading in All Data:"
   ]
  },
  {
   "cell_type": "code",
   "execution_count": 3,
   "metadata": {
    "collapsed": true
   },
   "outputs": [],
   "source": [
    "with open('saved_frame_data/M_1_2_everything.json') as data_file:    \n",
    "    M_1_everything = json.load(data_file)\n",
    "with open('saved_frame_data/M_1_2_labels.json') as data_file:    \n",
    "    M_1_labels = json.load(data_file)"
   ]
  },
  {
   "cell_type": "code",
   "execution_count": 4,
   "metadata": {
    "collapsed": true
   },
   "outputs": [],
   "source": [
    "with open('saved_frame_data/M_2_2_everything.json') as data_file:    \n",
    "    M_2_everything = json.load(data_file)\n",
    "with open('saved_frame_data/M_2_2_labels.json') as data_file:    \n",
    "    M_2_labels = json.load(data_file)"
   ]
  },
  {
   "cell_type": "code",
   "execution_count": 5,
   "metadata": {
    "collapsed": true
   },
   "outputs": [],
   "source": [
    "with open('saved_frame_data/M_3_2_everything.json') as data_file:    \n",
    "    M_3_everything = json.load(data_file)\n",
    "with open('saved_frame_data/M_3_labels.json') as data_file:    \n",
    "    M_3_labels = json.load(data_file)"
   ]
  },
  {
   "cell_type": "code",
   "execution_count": 6,
   "metadata": {
    "collapsed": true
   },
   "outputs": [],
   "source": [
    "with open('saved_frame_data/M_4_2_everything.json') as data_file:    \n",
    "    M_4_everything = json.load(data_file)\n",
    "with open('saved_frame_data/M_4_labels.json') as data_file:    \n",
    "    M_4_labels = json.load(data_file)"
   ]
  },
  {
   "cell_type": "code",
   "execution_count": 7,
   "metadata": {
    "collapsed": true
   },
   "outputs": [],
   "source": [
    "with open('saved_frame_data/T_1_2_everything.json') as data_file:    \n",
    "    T_1_everything = json.load(data_file)\n",
    "with open('saved_frame_data/T_1_labels.json') as data_file:    \n",
    "    T_1_labels = json.load(data_file)"
   ]
  },
  {
   "cell_type": "code",
   "execution_count": 8,
   "metadata": {
    "collapsed": true
   },
   "outputs": [],
   "source": [
    "with open('saved_frame_data/T_2_2_everything.json') as data_file:    \n",
    "    T_2_everything = json.load(data_file)\n",
    "with open('saved_frame_data/T_2_labels.json') as data_file:    \n",
    "    T_2_labels = json.load(data_file)"
   ]
  },
  {
   "cell_type": "code",
   "execution_count": 9,
   "metadata": {
    "collapsed": true
   },
   "outputs": [],
   "source": [
    "with open('saved_frame_data/T_3_2_everything.json') as data_file:    \n",
    "    T_3_everything = json.load(data_file)\n",
    "with open('saved_frame_data/T_3_labels.json') as data_file:    \n",
    "    T_3_labels = json.load(data_file)"
   ]
  },
  {
   "cell_type": "code",
   "execution_count": 11,
   "metadata": {},
   "outputs": [],
   "source": [
    "with open('saved_frame_data/BJ_1_everything.json') as data_file:    \n",
    "    BJ_everything = json.load(data_file)\n",
    "with open('saved_frame_data/BJ_1_labels.json') as data_file:    \n",
    "    BJ_labels = json.load(data_file)"
   ]
  },
  {
   "cell_type": "markdown",
   "metadata": {},
   "source": [
    "### Combining Data into One Set:"
   ]
  },
  {
   "cell_type": "code",
   "execution_count": 12,
   "metadata": {
    "collapsed": true
   },
   "outputs": [],
   "source": [
    "def bucket_vectors(vect):\n",
    "    if vect[0] <= 0:\n",
    "        return 0 # left\n",
    "    return 1 # right"
   ]
  },
  {
   "cell_type": "code",
   "execution_count": 13,
   "metadata": {
    "collapsed": true
   },
   "outputs": [],
   "source": [
    "def bucket_box(box):\n",
    "    center_x = (box[3]+box[1])/2.0\n",
    "    if center_x < 0.5:\n",
    "        return 0 # left\n",
    "    return 1 # right"
   ]
  },
  {
   "cell_type": "code",
   "execution_count": 14,
   "metadata": {
    "collapsed": true
   },
   "outputs": [],
   "source": [
    "def get_X_and_Y(all_data, all_labels, frame_thresh, time_steps):\n",
    "    person_to_boxes = defaultdict(list)\n",
    "    person_to_flow = defaultdict(list)\n",
    "    person_to_flow_x = defaultdict(list)\n",
    "    for entry in all_data:\n",
    "        if all_labels[str(entry['person_id'])] != \"unknown\":\n",
    "            person_to_boxes[entry['person_id']].append(entry['box'])\n",
    "            person_to_flow[entry['person_id']].append((entry['direction'], entry['direction2']))\n",
    "            person_to_flow_x[entry['person_id']].append((entry['flow'][0], entry['flow2'][0]))\n",
    "    person_to_boxes2 = defaultdict(list)\n",
    "    person_to_flow2 = defaultdict(list)\n",
    "    person_to_flow_x2 = defaultdict(list)\n",
    "    for person in person_to_boxes:\n",
    "        if len(person_to_boxes[person])>=frame_thresh:\n",
    "            person_to_boxes2[person] = person_to_boxes[person]\n",
    "            person_to_flow2[person] = person_to_flow[person]\n",
    "            person_to_flow_x2[person] = person_to_flow_x[person]\n",
    "    person_to_boxes = person_to_boxes2\n",
    "    person_to_flow = person_to_flow2\n",
    "    person_to_flow_x = person_to_flow_x2\n",
    "    X = []\n",
    "    y = []\n",
    "    dir_init = []\n",
    "    dir_later = []\n",
    "    pos_init = []\n",
    "    pos_later = []\n",
    "    num_frames = []\n",
    "    for person in person_to_flow:\n",
    "        person_data = []\n",
    "        for i in range(time_steps):\n",
    "            flow = person_to_flow_x[person][i]\n",
    "            box = person_to_boxes[person][i]\n",
    "            if flow[0]==\"n\":\n",
    "                entry = [0.0, 0.0, float(box[0]), float(box[1]), float(box[2]), float(box[3])]\n",
    "            else:\n",
    "                entry = [float(flow[0]), float(flow[1]), float(box[0]), float(box[1]), float(box[2]), float(box[3])]\n",
    "            person_data.append(entry)\n",
    "        X.append(person_data)\n",
    "        num_frames.append(len(person_to_boxes[person]))\n",
    "        dir_init.append(bucket_vectors(person_to_flow_x[person][0]))\n",
    "        dir_later.append(bucket_vectors(person_to_flow_x[person][time_steps]))\n",
    "        pos_init.append(bucket_box(person_to_boxes[person][0]))\n",
    "        pos_later.append(bucket_box(person_to_boxes[person][time_steps]))\n",
    "        if (all_labels[str(person)][0] == \"l\"):\n",
    "            y.append(0)\n",
    "        else:\n",
    "            y.append(1)\n",
    "    return X,y, dir_init, dir_later, pos_init, pos_later, num_frames"
   ]
  },
  {
   "cell_type": "code",
   "execution_count": 15,
   "metadata": {
    "collapsed": true
   },
   "outputs": [],
   "source": [
    "threshold = 10\n",
    "num_time_steps = 5\n",
    "dim_data = 6\n",
    "X1,y1, d_init1, d_lat1, p_init1, p_lat1, n_frames1 = get_X_and_Y(M_1_everything, M_1_labels, threshold, num_time_steps)\n",
    "X2,y2, d_init2, d_lat2, p_init2, p_lat2, n_frames2 = get_X_and_Y(M_2_everything, M_2_labels, threshold, num_time_steps)\n",
    "X3,y3, d_init3, d_lat3, p_init3, p_lat3, n_frames3 = get_X_and_Y(M_3_everything, M_3_labels, threshold, num_time_steps)\n",
    "X4,y4, d_init4, d_lat4, p_init4, p_lat4, n_frames4 = get_X_and_Y(M_4_everything, M_4_labels, threshold, num_time_steps)\n",
    "X5,y5, d_init5, d_lat5, p_init5, p_lat5, n_frames5 = get_X_and_Y(T_1_everything, T_1_labels, threshold, num_time_steps)\n",
    "X6,y6, d_init6, d_lat6, p_init6, p_lat6, n_frames6 = get_X_and_Y(T_2_everything, T_2_labels, threshold, num_time_steps)\n",
    "X7,y7, d_init7, d_lat7, p_init7, p_lat7, n_frames7 = get_X_and_Y(T_3_everything, T_3_labels, threshold, num_time_steps)\n",
    "X8,y8, d_init8, d_lat8, p_init8, p_lat8, n_frames8 = get_X_and_Y(BJ_everything, BJ_labels, threshold, num_time_steps)\n",
    "X = X1 + X2 + X4 + X5  + X6 + X3 + X7 \n",
    "y = y1 + y2 + y4 + y5  + y6 + y3 + y7\n",
    "init_pos = p_init1 + p_init2 + p_init4 + p_init5 + p_init6  + p_init3+ p_init7\n",
    "num_examples = len(X1) + len(X2)+ len(X4) + len(X5)  + len(X6)  + len(X3)+ len(X7)"
   ]
  },
  {
   "cell_type": "code",
   "execution_count": 16,
   "metadata": {},
   "outputs": [
    {
     "name": "stdout",
     "output_type": "stream",
     "text": [
      "We have 527 total TRAINING examples\n",
      "We have 24 total TESTING examples\n"
     ]
    }
   ],
   "source": [
    "X_train = array(X).reshape(num_examples, num_time_steps , dim_data)\n",
    "print(\"We have %d total TRAINING examples\" % np.shape(X_train)[0])\n",
    "Y_train = array(y)\n",
    "X_test = array(X8).reshape(len(X8), num_time_steps , dim_data)\n",
    "print(\"We have %d total TESTING examples\" % np.shape(X_test)[0])\n",
    "Y_test = array(y8)"
   ]
  },
  {
   "cell_type": "markdown",
   "metadata": {},
   "source": [
    "### Lets Look at Our Data"
   ]
  },
  {
   "cell_type": "code",
   "execution_count": 20,
   "metadata": {},
   "outputs": [
    {
     "name": "stdout",
     "output_type": "stream",
     "text": [
      "We have 196 data points from Manhattan\n",
      "We have 229 data points from Tokyo\n"
     ]
    }
   ],
   "source": [
    "M_X = X1 + X2 + X4 # + X3\n",
    "M_Y = y1 + y2 + y4 # + y3\n",
    "T_X = X5  + X6 #+X7\n",
    "T_Y = y5  + y6 #+y7\n",
    "print(\"We have %d data points from Manhattan\" % len(M_Y))\n",
    "print(\"We have %d data points from Tokyo\" % len(T_Y))"
   ]
  },
  {
   "cell_type": "code",
   "execution_count": 123,
   "metadata": {},
   "outputs": [
    {
     "name": "stdout",
     "output_type": "stream",
     "text": [
      "In Tokyo, 113 people pass to the LEFT\n",
      "In Tokyo, 90 people pass to the RIGHT\n",
      "In Manhattan, 129 people pass to the LEFT\n",
      "In Manhattan, 67 people pass to the RIGHT\n"
     ]
    }
   ],
   "source": [
    "count_m_right = len([i for i in M_Y if i==1])\n",
    "count_t_right = len([i for i in T_Y if i==1])\n",
    "print(\"In Tokyo, %d people pass to the LEFT\" % (len(T_Y) - count_t_right))\n",
    "print(\"In Tokyo, %d people pass to the RIGHT\" % (count_t_right))\n",
    "print(\"In Manhattan, %d people pass to the LEFT\" % (len(M_Y) - count_m_right))\n",
    "print(\"In Manhattan, %d people pass to the RIGHT\" % (count_m_right))"
   ]
  },
  {
   "cell_type": "markdown",
   "metadata": {},
   "source": [
    "### Baseline 1 (2 versions):"
   ]
  },
  {
   "cell_type": "code",
   "execution_count": 124,
   "metadata": {},
   "outputs": [
    {
     "name": "stdout",
     "output_type": "stream",
     "text": [
      "Comparing initial position to final position:\n",
      "In Tokyo, 82 people start on the LEFT and pass on the LEFT\n",
      "In Tokyo, 85 people start on the RIGHT and pass on the RIGHT\n",
      "In Tokyo, 5 people start on the LEFT and pass on the RIGHT\n",
      "In Tokyo, 31 people start on the RIGHT and pass on the LEFT\n",
      "Total correct in Tokyo given baseline is 167/203\n",
      "The percentage is 82.27\n",
      "In Manhattan, 74 people start on the LEFT and pass on the LEFT\n",
      "In Manhattan, 63 people start on the RIGHT and pass on the RIGHT\n",
      "In Manhattan, 4 people start on the LEFT and pass on the RIGHT\n",
      "In Manhattan, 55 people start on the RIGHT and pass on the LEFT\n",
      "Total correct in Manhattan given baseline is 137/196\n",
      "The percentage is 69.90\n"
     ]
    }
   ],
   "source": [
    "m_pos_start = p_init1 + p_init2 + p_init4 # + p_init3\n",
    "m_pos_end = y1 + y2 + y4 # + y3\n",
    "t_pos_start = p_init5 + p_init7 # + p_init6\n",
    "t_pos_end = y5 + y7 # + y6\n",
    "m_l_l = 0; m_r_r = 0; m_l_r = 0; m_r_l = 0;\n",
    "t_l_l = 0; t_r_r = 0; t_l_r = 0; t_r_l = 0;\n",
    "for i in range(len(m_pos_start)):\n",
    "    if m_pos_start[i] == 0:\n",
    "        if m_pos_end[i] == 0:\n",
    "            m_l_l+=1\n",
    "        else:\n",
    "            m_l_r+=1\n",
    "    else:\n",
    "        if m_pos_end[i] == 0:\n",
    "            m_r_l+=1\n",
    "        else:\n",
    "            m_r_r+=1\n",
    "for i in range(len(t_pos_start)):\n",
    "    if t_pos_start[i] == 0:\n",
    "        if t_pos_end[i] == 0:\n",
    "            t_l_l+=1\n",
    "        else:\n",
    "            t_l_r+=1\n",
    "    else:\n",
    "        if t_pos_end[i] == 0:\n",
    "            t_r_l+=1\n",
    "        else:\n",
    "            t_r_r+=1\n",
    "print(\"Comparing initial position to final position:\")\n",
    "print(\"In Tokyo, %d people start on the LEFT and pass on the LEFT\" % t_l_l)\n",
    "print(\"In Tokyo, %d people start on the RIGHT and pass on the RIGHT\" % t_r_r)\n",
    "print(\"In Tokyo, %d people start on the LEFT and pass on the RIGHT\" % t_l_r)\n",
    "print(\"In Tokyo, %d people start on the RIGHT and pass on the LEFT\" % t_r_l)\n",
    "print(\"Total correct in Tokyo given baseline is \" + str(t_l_l+t_r_r) + \"/\" + str(t_l_l+t_r_r+t_l_r+t_r_l))\n",
    "print(\"The percentage is %0.2f\" % (100*(t_l_l+t_r_r)/(1.0*(t_l_l+t_r_r+t_l_r+t_r_l))) )\n",
    "print(\"In Manhattan, %d people start on the LEFT and pass on the LEFT\" % m_l_l)\n",
    "print(\"In Manhattan, %d people start on the RIGHT and pass on the RIGHT\" % m_r_r)\n",
    "print(\"In Manhattan, %d people start on the LEFT and pass on the RIGHT\" % m_l_r)\n",
    "print(\"In Manhattan, %d people start on the RIGHT and pass on the LEFT\" % m_r_l)\n",
    "print(\"Total correct in Manhattan given baseline is \" + str(m_l_l+m_r_r) + \"/\" + str(m_l_l+m_r_r+m_l_r+m_r_l))\n",
    "print(\"The percentage is %0.2f\" % (100*(m_l_l+m_r_r)/(1.0*(m_l_l+m_r_r+m_l_r+m_r_l))) )"
   ]
  },
  {
   "cell_type": "code",
   "execution_count": 125,
   "metadata": {},
   "outputs": [
    {
     "name": "stdout",
     "output_type": "stream",
     "text": [
      "Comparing initial position to final position:\n",
      "In Tokyo, 84 people start on the LEFT and pass on the LEFT\n",
      "In Tokyo, 85 people start on the RIGHT and pass on the RIGHT\n",
      "In Tokyo, 5 people start on the LEFT and pass on the RIGHT\n",
      "In Tokyo, 29 people start on the RIGHT and pass on the LEFT\n",
      "Total correct in Tokyo given baseline is 169/203\n",
      "The percentage is 83.25\n",
      "In Manhattan, 74 people start on the LEFT and pass on the LEFT\n",
      "In Manhattan, 63 people start on the RIGHT and pass on the RIGHT\n",
      "In Manhattan, 4 people start on the LEFT and pass on the RIGHT\n",
      "In Manhattan, 55 people start on the RIGHT and pass on the LEFT\n",
      "Total correct in Manhattan given baseline is 137/196\n",
      "The percentage is 69.90\n"
     ]
    }
   ],
   "source": [
    "m_pos_start = p_lat1 + p_lat2 + p_lat4 # + p_lat3\n",
    "m_pos_end = y1 + y2 + y4 # + y3\n",
    "t_pos_start = p_lat5 + p_lat7 # + p_lat6\n",
    "t_pos_end = y5 + y7 # + y6\n",
    "m_l_l = 0; m_r_r = 0; m_l_r = 0; m_r_l = 0;\n",
    "t_l_l = 0; t_r_r = 0; t_l_r = 0; t_r_l = 0;\n",
    "for i in range(len(m_pos_start)):\n",
    "    if m_pos_start[i] == 0:\n",
    "        if m_pos_end[i] == 0:\n",
    "            m_l_l+=1\n",
    "        else:\n",
    "            m_l_r+=1\n",
    "    else:\n",
    "        if m_pos_end[i] == 0:\n",
    "            m_r_l+=1\n",
    "        else:\n",
    "            m_r_r+=1\n",
    "for i in range(len(t_pos_start)):\n",
    "    if t_pos_start[i] == 0:\n",
    "        if t_pos_end[i] == 0:\n",
    "            t_l_l+=1\n",
    "        else:\n",
    "            t_l_r+=1\n",
    "    else:\n",
    "        if t_pos_end[i] == 0:\n",
    "            t_r_l+=1\n",
    "        else:\n",
    "            t_r_r+=1\n",
    "print(\"Comparing later initial position to final position:\")\n",
    "print(\"In Tokyo, %d people start on the LEFT and pass on the LEFT\" % t_l_l)\n",
    "print(\"In Tokyo, %d people start on the RIGHT and pass on the RIGHT\" % t_r_r)\n",
    "print(\"In Tokyo, %d people start on the LEFT and pass on the RIGHT\" % t_l_r)\n",
    "print(\"In Tokyo, %d people start on the RIGHT and pass on the LEFT\" % t_r_l)\n",
    "print(\"Total correct in Tokyo given baseline is \" + str(t_l_l+t_r_r) + \"/\" + str(t_l_l+t_r_r+t_l_r+t_r_l))\n",
    "print(\"The percentage is %0.2f\" % (100*(t_l_l+t_r_r)/(1.0*(t_l_l+t_r_r+t_l_r+t_r_l))) )\n",
    "print(\"In Manhattan, %d people start on the LEFT and pass on the LEFT\" % m_l_l)\n",
    "print(\"In Manhattan, %d people start on the RIGHT and pass on the RIGHT\" % m_r_r)\n",
    "print(\"In Manhattan, %d people start on the LEFT and pass on the RIGHT\" % m_l_r)\n",
    "print(\"In Manhattan, %d people start on the RIGHT and pass on the LEFT\" % m_r_l)\n",
    "print(\"Total correct in Manhattan given baseline is \" + str(m_l_l+m_r_r) + \"/\" + str(m_l_l+m_r_r+m_l_r+m_r_l))\n",
    "print(\"The percentage is %0.2f\" % (100*(m_l_l+m_r_r)/(1.0*(m_l_l+m_r_r+m_l_r+m_r_l))) )"
   ]
  },
  {
   "cell_type": "markdown",
   "metadata": {},
   "source": [
    "### Baseline 2:"
   ]
  },
  {
   "cell_type": "code",
   "execution_count": 126,
   "metadata": {},
   "outputs": [
    {
     "name": "stdout",
     "output_type": "stream",
     "text": [
      "Comparing initial position to final position:\n",
      "In Tokyo, 1 people move towards the LEFT and pass on the LEFT\n",
      "In Tokyo, 90 people move towards the RIGHT and pass on the RIGHT\n",
      "In Tokyo, 0 people move towards the LEFT and pass on the RIGHT\n",
      "In Tokyo, 112 people move towards the RIGHT and pass on the LEFT\n",
      "Total correct in Tokyo given baseline is 91/203\n",
      "The percentage is 44.83\n",
      "In Manhattan, 61 people move towards the LEFT and pass on the LEFT\n",
      "In Manhattan, 52 people move towards the RIGHT and pass on the RIGHT\n",
      "In Manhattan, 15 people move towards the LEFT and pass on the RIGHT\n",
      "In Manhattan, 68 people move towards the RIGHT and pass on the LEFT\n",
      "Total correct in Manhattan given baseline is 113/196\n",
      "The percentage is 57.65\n"
     ]
    }
   ],
   "source": [
    "m_pos_start = d_init1 + d_init2 + d_init4 # + d_init3\n",
    "m_pos_end = y1 + y2 + y4 # + y3\n",
    "t_pos_start = d_init5 + d_init7 # + d_init6\n",
    "t_pos_end = y5 + y7 # + y6\n",
    "m_l_l = 0; m_r_r = 0; m_l_r = 0; m_r_l = 0;\n",
    "t_l_l = 0; t_r_r = 0; t_l_r = 0; t_r_l = 0;\n",
    "for i in range(len(m_pos_start)):\n",
    "    if m_pos_start[i] == 0:\n",
    "        if m_pos_end[i] == 0:\n",
    "            m_l_l+=1\n",
    "        else:\n",
    "            m_l_r+=1\n",
    "    else:\n",
    "        if m_pos_end[i] == 0:\n",
    "            m_r_l+=1\n",
    "        else:\n",
    "            m_r_r+=1\n",
    "for i in range(len(t_pos_start)):\n",
    "    if t_pos_start[i] == 0:\n",
    "        if t_pos_end[i] == 0:\n",
    "            t_l_l+=1\n",
    "        else:\n",
    "            t_l_r+=1\n",
    "    else:\n",
    "        if t_pos_end[i] == 0:\n",
    "            t_r_l+=1\n",
    "        else:\n",
    "            t_r_r+=1\n",
    "print(\"Comparing initial position to final position:\")\n",
    "print(\"In Tokyo, %d people move towards the LEFT and pass on the LEFT\" % t_l_l)\n",
    "print(\"In Tokyo, %d people move towards the RIGHT and pass on the RIGHT\" % t_r_r)\n",
    "print(\"In Tokyo, %d people move towards the LEFT and pass on the RIGHT\" % t_l_r)\n",
    "print(\"In Tokyo, %d people move towards the RIGHT and pass on the LEFT\" % t_r_l)\n",
    "print(\"Total correct in Tokyo given baseline is \" + str(t_l_l+t_r_r) + \"/\" + str(t_l_l+t_r_r+t_l_r+t_r_l))\n",
    "print(\"The percentage is %0.2f\" % (100*(t_l_l+t_r_r)/(1.0*(t_l_l+t_r_r+t_l_r+t_r_l))) )\n",
    "print(\"In Manhattan, %d people move towards the LEFT and pass on the LEFT\" % m_l_l)\n",
    "print(\"In Manhattan, %d people move towards the RIGHT and pass on the RIGHT\" % m_r_r)\n",
    "print(\"In Manhattan, %d people move towards the LEFT and pass on the RIGHT\" % m_l_r)\n",
    "print(\"In Manhattan, %d people move towards the RIGHT and pass on the LEFT\" % m_r_l)\n",
    "print(\"Total correct in Manhattan given baseline is \" + str(m_l_l+m_r_r) + \"/\" + str(m_l_l+m_r_r+m_l_r+m_r_l))\n",
    "print(\"The percentage is %0.2f\" % (100*(m_l_l+m_r_r)/(1.0*(m_l_l+m_r_r+m_l_r+m_r_l))) )"
   ]
  },
  {
   "cell_type": "code",
   "execution_count": 127,
   "metadata": {},
   "outputs": [
    {
     "name": "stdout",
     "output_type": "stream",
     "text": [
      "Comparing initial position to final position:\n",
      "In Tokyo, 0 people move towards the LEFT and pass on the LEFT\n",
      "In Tokyo, 90 people move towards the RIGHT and pass on the RIGHT\n",
      "In Tokyo, 0 people move towards the LEFT and pass on the RIGHT\n",
      "In Tokyo, 113 people move towards the RIGHT and pass on the LEFT\n",
      "Total correct in Tokyo given baseline is 90/203\n",
      "The percentage is 44.33\n",
      "In Manhattan, 60 people move towards the LEFT and pass on the LEFT\n",
      "In Manhattan, 55 people move towards the RIGHT and pass on the RIGHT\n",
      "In Manhattan, 12 people move towards the LEFT and pass on the RIGHT\n",
      "In Manhattan, 69 people move towards the RIGHT and pass on the LEFT\n",
      "Total correct in Manhattan given baseline is 115/196\n",
      "The percentage is 58.67\n"
     ]
    }
   ],
   "source": [
    "m_pos_start = d_lat1 + d_lat2 + d_lat4 # + d_lat3\n",
    "m_pos_end = y1 + y2 + y4 # + y3\n",
    "t_pos_start = d_lat5 + d_lat7 # + d_lat6\n",
    "t_pos_end = y5 + y7 # + y6\n",
    "m_l_l = 0; m_r_r = 0; m_l_r = 0; m_r_l = 0;\n",
    "t_l_l = 0; t_r_r = 0; t_l_r = 0; t_r_l = 0;\n",
    "for i in range(len(m_pos_start)):\n",
    "    if m_pos_start[i] == 0:\n",
    "        if m_pos_end[i] == 0:\n",
    "            m_l_l+=1\n",
    "        else:\n",
    "            m_l_r+=1\n",
    "    else:\n",
    "        if m_pos_end[i] == 0:\n",
    "            m_r_l+=1\n",
    "        else:\n",
    "            m_r_r+=1\n",
    "for i in range(len(t_pos_start)):\n",
    "    if t_pos_start[i] == 0:\n",
    "        if t_pos_end[i] == 0:\n",
    "            t_l_l+=1\n",
    "        else:\n",
    "            t_l_r+=1\n",
    "    else:\n",
    "        if t_pos_end[i] == 0:\n",
    "            t_r_l+=1\n",
    "        else:\n",
    "            t_r_r+=1\n",
    "print(\"Comparing initial position to final position:\")\n",
    "print(\"In Tokyo, %d people move towards the LEFT and pass on the LEFT\" % t_l_l)\n",
    "print(\"In Tokyo, %d people move towards the RIGHT and pass on the RIGHT\" % t_r_r)\n",
    "print(\"In Tokyo, %d people move towards the LEFT and pass on the RIGHT\" % t_l_r)\n",
    "print(\"In Tokyo, %d people move towards the RIGHT and pass on the LEFT\" % t_r_l)\n",
    "print(\"Total correct in Tokyo given baseline is \" + str(t_l_l+t_r_r) + \"/\" + str(t_l_l+t_r_r+t_l_r+t_r_l))\n",
    "print(\"The percentage is %0.2f\" % (100*(t_l_l+t_r_r)/(1.0*(t_l_l+t_r_r+t_l_r+t_r_l))) )\n",
    "print(\"In Manhattan, %d people move towards the LEFT and pass on the LEFT\" % m_l_l)\n",
    "print(\"In Manhattan, %d people move towards the RIGHT and pass on the RIGHT\" % m_r_r)\n",
    "print(\"In Manhattan, %d people move towards the LEFT and pass on the RIGHT\" % m_l_r)\n",
    "print(\"In Manhattan, %d people move towards the RIGHT and pass on the LEFT\" % m_r_l)\n",
    "print(\"Total correct in Manhattan given baseline is \" + str(m_l_l+m_r_r) + \"/\" + str(m_l_l+m_r_r+m_l_r+m_r_l))\n",
    "print(\"The percentage is %0.2f\" % (100*(m_l_l+m_r_r)/(1.0*(m_l_l+m_r_r+m_l_r+m_r_l))) )"
   ]
  },
  {
   "cell_type": "markdown",
   "metadata": {},
   "source": [
    "### LSTM:"
   ]
  },
  {
   "cell_type": "code",
   "execution_count": 12,
   "metadata": {
    "collapsed": true
   },
   "outputs": [],
   "source": [
    "model = Sequential()\n",
    "model.add(LSTM(50, input_shape=(num_time_steps, dim_data), return_sequences=True))\n",
    "model.add(LSTM(50, input_shape=(num_time_steps, dim_data)))\n",
    "model.add(Dense(1))"
   ]
  },
  {
   "cell_type": "code",
   "execution_count": 13,
   "metadata": {},
   "outputs": [
    {
     "name": "stdout",
     "output_type": "stream",
     "text": [
      "_________________________________________________________________\n",
      "Layer (type)                 Output Shape              Param #   \n",
      "=================================================================\n",
      "lstm_1 (LSTM)                (None, 5, 50)             11400     \n",
      "_________________________________________________________________\n",
      "lstm_2 (LSTM)                (None, 50)                20200     \n",
      "_________________________________________________________________\n",
      "dense_1 (Dense)              (None, 1)                 51        \n",
      "=================================================================\n",
      "Total params: 31,651\n",
      "Trainable params: 31,651\n",
      "Non-trainable params: 0\n",
      "_________________________________________________________________\n",
      "None\n"
     ]
    }
   ],
   "source": [
    "model.compile(loss='binary_crossentropy', optimizer='adam', metrics=['acc'])\n",
    "print(model.summary())"
   ]
  },
  {
   "cell_type": "code",
   "execution_count": 19,
   "metadata": {},
   "outputs": [
    {
     "name": "stdout",
     "output_type": "stream",
     "text": [
      "Epoch 1/10\n",
      "322/322 [==============================] - 1s - loss: 0.6284 - acc: 0.4534     \n",
      "Epoch 2/10\n",
      "322/322 [==============================] - 1s - loss: 0.6133 - acc: 0.4565     \n",
      "Epoch 3/10\n",
      "322/322 [==============================] - 1s - loss: 0.6077 - acc: 0.4596     \n",
      "Epoch 4/10\n",
      "322/322 [==============================] - 1s - loss: 0.6036 - acc: 0.4627     \n",
      "Epoch 5/10\n",
      "322/322 [==============================] - 1s - loss: 0.5995 - acc: 0.4720     \n",
      "Epoch 6/10\n",
      "322/322 [==============================] - 1s - loss: 0.5966 - acc: 0.4720     \n",
      "Epoch 7/10\n",
      "322/322 [==============================] - 1s - loss: 0.5942 - acc: 0.4752     \n",
      "Epoch 8/10\n",
      "322/322 [==============================] - 1s - loss: 0.5919 - acc: 0.4752     \n",
      "Epoch 9/10\n",
      "322/322 [==============================] - 1s - loss: 0.5897 - acc: 0.4689     \n",
      "Epoch 10/10\n",
      "322/322 [==============================] - 1s - loss: 0.5878 - acc: 0.4720     \n"
     ]
    },
    {
     "data": {
      "text/plain": [
       "<keras.callbacks.History at 0x13c644690>"
      ]
     },
     "execution_count": 19,
     "metadata": {},
     "output_type": "execute_result"
    }
   ],
   "source": [
    "model.fit(X_train, Y_train, epochs=10, batch_size=5, verbose=1)"
   ]
  },
  {
   "cell_type": "code",
   "execution_count": 145,
   "metadata": {
    "collapsed": true
   },
   "outputs": [],
   "source": [
    "def summarize_success(X, Y, model):\n",
    "    correct = 0\n",
    "    count_left = 0\n",
    "    count_right = 0\n",
    "    correct_left = 0\n",
    "    correct_right = 0\n",
    "    preds = []\n",
    "    for i in range(len(X)):\n",
    "        pred = model.predict_classes(array([X[i]]), batch_size=1, verbose=0)[0][0]\n",
    "        preds.append(pred)\n",
    "        if Y[i] == 0:\n",
    "            count_left+=1\n",
    "            if (pred==Y[i]):\n",
    "                correct_left+=1\n",
    "                correct+=1\n",
    "        else:\n",
    "            count_right+=1\n",
    "            if (pred==Y[i]):\n",
    "                correct_right+=1\n",
    "                correct+=1\n",
    "    print(\"There are %d total examples in X\" % len(X))\n",
    "    #print(\"There are %d total examples in X that pass on the LEFT\" % count_left)\n",
    "    #print(\"There are %d total examples in X that pass on the RIGHT\" % count_right)\n",
    "    print(\"We classify %d of all examples correctly\" % correct)\n",
    "    print(\"That is %0.2f %% correct\" % (100*correct/(1.0*len(X))))\n",
    "    return preds"
   ]
  },
  {
   "cell_type": "code",
   "execution_count": 146,
   "metadata": {},
   "outputs": [
    {
     "name": "stdout",
     "output_type": "stream",
     "text": [
      "There are 322 total examples in X\n",
      "We classify 246 of all examples correctly\n",
      "That is 76.40 % correct\n"
     ]
    }
   ],
   "source": [
    "predictions_train = summarize_success(X_train, Y_train, model)"
   ]
  },
  {
   "cell_type": "code",
   "execution_count": 147,
   "metadata": {},
   "outputs": [
    {
     "name": "stdout",
     "output_type": "stream",
     "text": [
      "There are 77 total examples in X\n",
      "We classify 68 of all examples correctly\n",
      "That is 88.31 % correct\n"
     ]
    }
   ],
   "source": [
    "predictions_test = summarize_success(X_test, Y_test, model)"
   ]
  }
 ],
 "metadata": {
  "kernelspec": {
   "display_name": "Python 2",
   "language": "python",
   "name": "python2"
  },
  "language_info": {
   "codemirror_mode": {
    "name": "ipython",
    "version": 2
   },
   "file_extension": ".py",
   "mimetype": "text/x-python",
   "name": "python",
   "nbconvert_exporter": "python",
   "pygments_lexer": "ipython2",
   "version": "2.7.13"
  }
 },
 "nbformat": 4,
 "nbformat_minor": 2
}
