{
 "cells": [
  {
   "cell_type": "markdown",
   "metadata": {},
   "source": [
    "### Imports"
   ]
  },
  {
   "cell_type": "code",
   "execution_count": 1,
   "metadata": {
    "collapsed": true
   },
   "outputs": [],
   "source": [
    "import numpy as np\n",
    "import os\n",
    "import six.moves.urllib as urllib\n",
    "import sys\n",
    "import tarfile\n",
    "import tensorflow as tf\n",
    "import zipfile\n",
    "import cv2\n",
    "\n",
    "from collections import defaultdict\n",
    "from io import StringIO\n",
    "from matplotlib import pyplot as plt\n",
    "from PIL import Image\n",
    "\n",
    "%matplotlib inline\n",
    "sys.path.append(\"..\")\n",
    "\n",
    "from utils import label_map_util\n",
    "from utils import visualization_utils as vis_util\n",
    "from utils import path_detection_utils as path_util\n",
    "from utils import data_collection_util as data_util"
   ]
  },
  {
   "cell_type": "markdown",
   "metadata": {
    "collapsed": true
   },
   "source": [
    "### Loading in model "
   ]
  },
  {
   "cell_type": "code",
   "execution_count": 2,
   "metadata": {
    "collapsed": true
   },
   "outputs": [],
   "source": [
    "MODEL_NAME = 'ssd_mobilenet_v1_coco_11_06_2017'\n",
    "MODEL_FILE = MODEL_NAME + '.tar.gz'\n",
    "DOWNLOAD_BASE = 'http://download.tensorflow.org/models/object_detection/'\n",
    "PATH_TO_CKPT = MODEL_NAME + '/frozen_inference_graph.pb'\n",
    "PATH_TO_LABELS = os.path.join('data', 'mscoco_label_map.pbtxt')\n",
    "NUM_CLASSES = 90\n",
    "detection_graph = tf.Graph()\n",
    "with detection_graph.as_default():\n",
    "    od_graph_def = tf.GraphDef()\n",
    "    with tf.gfile.GFile(PATH_TO_CKPT, 'rb') as fid:\n",
    "        serialized_graph = fid.read()\n",
    "        od_graph_def.ParseFromString(serialized_graph)\n",
    "        tf.import_graph_def(od_graph_def, name='')\n",
    "label_map = label_map_util.load_labelmap(PATH_TO_LABELS)\n",
    "categories = label_map_util.convert_label_map_to_categories(label_map, max_num_classes=NUM_CLASSES, use_display_name=True)\n",
    "category_index = label_map_util.create_category_index(categories)"
   ]
  },
  {
   "cell_type": "markdown",
   "metadata": {},
   "source": [
    "### Object Detection on specific frame"
   ]
  },
  {
   "cell_type": "code",
   "execution_count": 3,
   "metadata": {
    "collapsed": true
   },
   "outputs": [],
   "source": [
    "path1 = 'video_frames/frame199.jpg'\n",
    "path2 = 'video_frames/frame200.jpg'\n",
    "path3 = 'video_frames/frame201.jpg'\n",
    "\n",
    "path4 = 'test_images/pic.jpg'\n",
    "\n",
    "image1 = Image.open(path1)\n",
    "width1, height1 = image1.size\n",
    "image_np1 = path_util.load_image_into_numpy_array(image1)\n",
    "boxes1, scores1, classes1 = path_util.get_segmentation(path1,detection_graph, category_index, False)\n",
    "human_boxes1, human_scores1 = path_util.remove_non_human(boxes1, scores1, classes1)\n",
    "good_boxes1, good_scores1 = path_util.remove_low_prob(human_boxes1, human_scores1)\n",
    "good_boxes1, good_scores1 = path_util.remove_poorly_sized_people(good_boxes1, good_scores1)\n",
    "\n",
    "image2 = Image.open(path2)\n",
    "width2, height2 = image2.size\n",
    "image_np2 = path_util.load_image_into_numpy_array(image2)\n",
    "boxes2, scores2, classes2 = path_util.get_segmentation(path2,detection_graph, category_index, False)\n",
    "human_boxes2, human_scores2 = path_util.remove_non_human(boxes2, scores2, classes2)\n",
    "good_boxes2, good_scores2 = path_util.remove_low_prob(human_boxes2, human_scores2)\n",
    "good_boxes2, good_scores2 = path_util.remove_poorly_sized_people(good_boxes2, good_scores2)\n",
    "\n",
    "image3 = Image.open(path3)\n",
    "width3, height3 = image3.size\n",
    "image_np3 = path_util.load_image_into_numpy_array(image3)\n",
    "boxes3, scores3, classes3 = path_util.get_segmentation(path3,detection_graph, category_index, False)\n",
    "human_boxes3, human_scores3 = path_util.remove_non_human(boxes3, scores3, classes3)\n",
    "good_boxes3, good_scores3 = path_util.remove_low_prob(human_boxes3, human_scores3)\n",
    "good_boxes3, good_scores3 = path_util.remove_poorly_sized_people(good_boxes3, good_scores3)"
   ]
  },
  {
   "cell_type": "code",
   "execution_count": 3,
   "metadata": {},
   "outputs": [
    {
     "name": "stderr",
     "output_type": "stream",
     "text": [
      "utils/data_collection_util.py:162: FutureWarning: elementwise comparison failed; returning scalar instead, but in the future will perform elementwise comparison\n",
      "  if flow == \"nah\":\n"
     ]
    }
   ],
   "source": [
    "stuff = data_util.collect_data('video_frames/frame', 0, 5000,5002, detection_graph, category_index)"
   ]
  },
  {
   "cell_type": "code",
   "execution_count": 16,
   "metadata": {
    "collapsed": true
   },
   "outputs": [],
   "source": [
    "import json"
   ]
  },
  {
   "cell_type": "code",
   "execution_count": 19,
   "metadata": {},
   "outputs": [],
   "source": [
    "with open('data5000_labels.json', 'w') as fp:\n",
    "    json.dump(stuff[1], fp)"
   ]
  },
  {
   "cell_type": "code",
   "execution_count": 35,
   "metadata": {},
   "outputs": [
    {
     "ename": "SyntaxError",
     "evalue": "invalid syntax (<ipython-input-35-b384cc302274>, line 8)",
     "output_type": "error",
     "traceback": [
      "\u001b[0;36m  File \u001b[0;32m\"<ipython-input-35-b384cc302274>\"\u001b[0;36m, line \u001b[0;32m8\u001b[0m\n\u001b[0;31m    stuff2.append(entry)\u001b[0m\n\u001b[0m         ^\u001b[0m\n\u001b[0;31mSyntaxError\u001b[0m\u001b[0;31m:\u001b[0m invalid syntax\n"
     ]
    }
   ],
   "source": [
    "stuff2 = []\n",
    "for i in stuff[0]:\n",
    "    entry = i\n",
    "    #entry['box'] = entry['box'].tolist()\n",
    "    #entry['flow'] = entry['flow'].tolist()\n",
    "    try:\n",
    "        entry['flow'] = [float(i) for i in entry['flow']]\n",
    "    stuff2.append(entry)"
   ]
  },
  {
   "cell_type": "code",
   "execution_count": 33,
   "metadata": {},
   "outputs": [
    {
     "data": {
      "text/plain": [
       "numpy.float32"
      ]
     },
     "execution_count": 33,
     "metadata": {},
     "output_type": "execute_result"
    }
   ],
   "source": [
    "type(stuff2[0]['flow'][0])"
   ]
  },
  {
   "cell_type": "code",
   "execution_count": null,
   "metadata": {
    "collapsed": true
   },
   "outputs": [],
   "source": []
  },
  {
   "cell_type": "code",
   "execution_count": 23,
   "metadata": {},
   "outputs": [
    {
     "ename": "TypeError",
     "evalue": "-3.2773499 is not JSON serializable",
     "output_type": "error",
     "traceback": [
      "\u001b[0;31m---------------------------------------------------------------------------\u001b[0m",
      "\u001b[0;31mTypeError\u001b[0m                                 Traceback (most recent call last)",
      "\u001b[0;32m<ipython-input-23-225f9d830e5a>\u001b[0m in \u001b[0;36m<module>\u001b[0;34m()\u001b[0m\n\u001b[1;32m      1\u001b[0m \u001b[0;32mwith\u001b[0m \u001b[0mopen\u001b[0m\u001b[0;34m(\u001b[0m\u001b[0;34m'data5000_everything.json'\u001b[0m\u001b[0;34m,\u001b[0m \u001b[0;34m'w'\u001b[0m\u001b[0;34m)\u001b[0m \u001b[0;32mas\u001b[0m \u001b[0mfp\u001b[0m\u001b[0;34m:\u001b[0m\u001b[0;34m\u001b[0m\u001b[0m\n\u001b[0;32m----> 2\u001b[0;31m     \u001b[0mjson\u001b[0m\u001b[0;34m.\u001b[0m\u001b[0mdump\u001b[0m\u001b[0;34m(\u001b[0m\u001b[0mstuff2\u001b[0m\u001b[0;34m,\u001b[0m \u001b[0mfp\u001b[0m\u001b[0;34m)\u001b[0m\u001b[0;34m\u001b[0m\u001b[0m\n\u001b[0m",
      "\u001b[0;32m/anaconda/lib/python2.7/json/__init__.pyc\u001b[0m in \u001b[0;36mdump\u001b[0;34m(obj, fp, skipkeys, ensure_ascii, check_circular, allow_nan, cls, indent, separators, encoding, default, sort_keys, **kw)\u001b[0m\n\u001b[1;32m    187\u001b[0m     \u001b[0;31m# could accelerate with writelines in some versions of Python, at\u001b[0m\u001b[0;34m\u001b[0m\u001b[0;34m\u001b[0m\u001b[0m\n\u001b[1;32m    188\u001b[0m     \u001b[0;31m# a debuggability cost\u001b[0m\u001b[0;34m\u001b[0m\u001b[0;34m\u001b[0m\u001b[0m\n\u001b[0;32m--> 189\u001b[0;31m     \u001b[0;32mfor\u001b[0m \u001b[0mchunk\u001b[0m \u001b[0;32min\u001b[0m \u001b[0miterable\u001b[0m\u001b[0;34m:\u001b[0m\u001b[0;34m\u001b[0m\u001b[0m\n\u001b[0m\u001b[1;32m    190\u001b[0m         \u001b[0mfp\u001b[0m\u001b[0;34m.\u001b[0m\u001b[0mwrite\u001b[0m\u001b[0;34m(\u001b[0m\u001b[0mchunk\u001b[0m\u001b[0;34m)\u001b[0m\u001b[0;34m\u001b[0m\u001b[0m\n\u001b[1;32m    191\u001b[0m \u001b[0;34m\u001b[0m\u001b[0m\n",
      "\u001b[0;32m/anaconda/lib/python2.7/json/encoder.pyc\u001b[0m in \u001b[0;36m_iterencode\u001b[0;34m(o, _current_indent_level)\u001b[0m\n\u001b[1;32m    429\u001b[0m             \u001b[0;32myield\u001b[0m \u001b[0m_floatstr\u001b[0m\u001b[0;34m(\u001b[0m\u001b[0mo\u001b[0m\u001b[0;34m)\u001b[0m\u001b[0;34m\u001b[0m\u001b[0m\n\u001b[1;32m    430\u001b[0m         \u001b[0;32melif\u001b[0m \u001b[0misinstance\u001b[0m\u001b[0;34m(\u001b[0m\u001b[0mo\u001b[0m\u001b[0;34m,\u001b[0m \u001b[0;34m(\u001b[0m\u001b[0mlist\u001b[0m\u001b[0;34m,\u001b[0m \u001b[0mtuple\u001b[0m\u001b[0;34m)\u001b[0m\u001b[0;34m)\u001b[0m\u001b[0;34m:\u001b[0m\u001b[0;34m\u001b[0m\u001b[0m\n\u001b[0;32m--> 431\u001b[0;31m             \u001b[0;32mfor\u001b[0m \u001b[0mchunk\u001b[0m \u001b[0;32min\u001b[0m \u001b[0m_iterencode_list\u001b[0m\u001b[0;34m(\u001b[0m\u001b[0mo\u001b[0m\u001b[0;34m,\u001b[0m \u001b[0m_current_indent_level\u001b[0m\u001b[0;34m)\u001b[0m\u001b[0;34m:\u001b[0m\u001b[0;34m\u001b[0m\u001b[0m\n\u001b[0m\u001b[1;32m    432\u001b[0m                 \u001b[0;32myield\u001b[0m \u001b[0mchunk\u001b[0m\u001b[0;34m\u001b[0m\u001b[0m\n\u001b[1;32m    433\u001b[0m         \u001b[0;32melif\u001b[0m \u001b[0misinstance\u001b[0m\u001b[0;34m(\u001b[0m\u001b[0mo\u001b[0m\u001b[0;34m,\u001b[0m \u001b[0mdict\u001b[0m\u001b[0;34m)\u001b[0m\u001b[0;34m:\u001b[0m\u001b[0;34m\u001b[0m\u001b[0m\n",
      "\u001b[0;32m/anaconda/lib/python2.7/json/encoder.pyc\u001b[0m in \u001b[0;36m_iterencode_list\u001b[0;34m(lst, _current_indent_level)\u001b[0m\n\u001b[1;32m    330\u001b[0m                 \u001b[0;32melse\u001b[0m\u001b[0;34m:\u001b[0m\u001b[0;34m\u001b[0m\u001b[0m\n\u001b[1;32m    331\u001b[0m                     \u001b[0mchunks\u001b[0m \u001b[0;34m=\u001b[0m \u001b[0m_iterencode\u001b[0m\u001b[0;34m(\u001b[0m\u001b[0mvalue\u001b[0m\u001b[0;34m,\u001b[0m \u001b[0m_current_indent_level\u001b[0m\u001b[0;34m)\u001b[0m\u001b[0;34m\u001b[0m\u001b[0m\n\u001b[0;32m--> 332\u001b[0;31m                 \u001b[0;32mfor\u001b[0m \u001b[0mchunk\u001b[0m \u001b[0;32min\u001b[0m \u001b[0mchunks\u001b[0m\u001b[0;34m:\u001b[0m\u001b[0;34m\u001b[0m\u001b[0m\n\u001b[0m\u001b[1;32m    333\u001b[0m                     \u001b[0;32myield\u001b[0m \u001b[0mchunk\u001b[0m\u001b[0;34m\u001b[0m\u001b[0m\n\u001b[1;32m    334\u001b[0m         \u001b[0;32mif\u001b[0m \u001b[0mnewline_indent\u001b[0m \u001b[0;32mis\u001b[0m \u001b[0;32mnot\u001b[0m \u001b[0mNone\u001b[0m\u001b[0;34m:\u001b[0m\u001b[0;34m\u001b[0m\u001b[0m\n",
      "\u001b[0;32m/anaconda/lib/python2.7/json/encoder.pyc\u001b[0m in \u001b[0;36m_iterencode_dict\u001b[0;34m(dct, _current_indent_level)\u001b[0m\n\u001b[1;32m    406\u001b[0m                 \u001b[0;32melse\u001b[0m\u001b[0;34m:\u001b[0m\u001b[0;34m\u001b[0m\u001b[0m\n\u001b[1;32m    407\u001b[0m                     \u001b[0mchunks\u001b[0m \u001b[0;34m=\u001b[0m \u001b[0m_iterencode\u001b[0m\u001b[0;34m(\u001b[0m\u001b[0mvalue\u001b[0m\u001b[0;34m,\u001b[0m \u001b[0m_current_indent_level\u001b[0m\u001b[0;34m)\u001b[0m\u001b[0;34m\u001b[0m\u001b[0m\n\u001b[0;32m--> 408\u001b[0;31m                 \u001b[0;32mfor\u001b[0m \u001b[0mchunk\u001b[0m \u001b[0;32min\u001b[0m \u001b[0mchunks\u001b[0m\u001b[0;34m:\u001b[0m\u001b[0;34m\u001b[0m\u001b[0m\n\u001b[0m\u001b[1;32m    409\u001b[0m                     \u001b[0;32myield\u001b[0m \u001b[0mchunk\u001b[0m\u001b[0;34m\u001b[0m\u001b[0m\n\u001b[1;32m    410\u001b[0m         \u001b[0;32mif\u001b[0m \u001b[0mnewline_indent\u001b[0m \u001b[0;32mis\u001b[0m \u001b[0;32mnot\u001b[0m \u001b[0mNone\u001b[0m\u001b[0;34m:\u001b[0m\u001b[0;34m\u001b[0m\u001b[0m\n",
      "\u001b[0;32m/anaconda/lib/python2.7/json/encoder.pyc\u001b[0m in \u001b[0;36m_iterencode_list\u001b[0;34m(lst, _current_indent_level)\u001b[0m\n\u001b[1;32m    330\u001b[0m                 \u001b[0;32melse\u001b[0m\u001b[0;34m:\u001b[0m\u001b[0;34m\u001b[0m\u001b[0m\n\u001b[1;32m    331\u001b[0m                     \u001b[0mchunks\u001b[0m \u001b[0;34m=\u001b[0m \u001b[0m_iterencode\u001b[0m\u001b[0;34m(\u001b[0m\u001b[0mvalue\u001b[0m\u001b[0;34m,\u001b[0m \u001b[0m_current_indent_level\u001b[0m\u001b[0;34m)\u001b[0m\u001b[0;34m\u001b[0m\u001b[0m\n\u001b[0;32m--> 332\u001b[0;31m                 \u001b[0;32mfor\u001b[0m \u001b[0mchunk\u001b[0m \u001b[0;32min\u001b[0m \u001b[0mchunks\u001b[0m\u001b[0;34m:\u001b[0m\u001b[0;34m\u001b[0m\u001b[0m\n\u001b[0m\u001b[1;32m    333\u001b[0m                     \u001b[0;32myield\u001b[0m \u001b[0mchunk\u001b[0m\u001b[0;34m\u001b[0m\u001b[0m\n\u001b[1;32m    334\u001b[0m         \u001b[0;32mif\u001b[0m \u001b[0mnewline_indent\u001b[0m \u001b[0;32mis\u001b[0m \u001b[0;32mnot\u001b[0m \u001b[0mNone\u001b[0m\u001b[0;34m:\u001b[0m\u001b[0;34m\u001b[0m\u001b[0m\n",
      "\u001b[0;32m/anaconda/lib/python2.7/json/encoder.pyc\u001b[0m in \u001b[0;36m_iterencode\u001b[0;34m(o, _current_indent_level)\u001b[0m\n\u001b[1;32m    440\u001b[0m                     \u001b[0;32mraise\u001b[0m \u001b[0mValueError\u001b[0m\u001b[0;34m(\u001b[0m\u001b[0;34m\"Circular reference detected\"\u001b[0m\u001b[0;34m)\u001b[0m\u001b[0;34m\u001b[0m\u001b[0m\n\u001b[1;32m    441\u001b[0m                 \u001b[0mmarkers\u001b[0m\u001b[0;34m[\u001b[0m\u001b[0mmarkerid\u001b[0m\u001b[0;34m]\u001b[0m \u001b[0;34m=\u001b[0m \u001b[0mo\u001b[0m\u001b[0;34m\u001b[0m\u001b[0m\n\u001b[0;32m--> 442\u001b[0;31m             \u001b[0mo\u001b[0m \u001b[0;34m=\u001b[0m \u001b[0m_default\u001b[0m\u001b[0;34m(\u001b[0m\u001b[0mo\u001b[0m\u001b[0;34m)\u001b[0m\u001b[0;34m\u001b[0m\u001b[0m\n\u001b[0m\u001b[1;32m    443\u001b[0m             \u001b[0;32mfor\u001b[0m \u001b[0mchunk\u001b[0m \u001b[0;32min\u001b[0m \u001b[0m_iterencode\u001b[0m\u001b[0;34m(\u001b[0m\u001b[0mo\u001b[0m\u001b[0;34m,\u001b[0m \u001b[0m_current_indent_level\u001b[0m\u001b[0;34m)\u001b[0m\u001b[0;34m:\u001b[0m\u001b[0;34m\u001b[0m\u001b[0m\n\u001b[1;32m    444\u001b[0m                 \u001b[0;32myield\u001b[0m \u001b[0mchunk\u001b[0m\u001b[0;34m\u001b[0m\u001b[0m\n",
      "\u001b[0;32m/anaconda/lib/python2.7/json/encoder.pyc\u001b[0m in \u001b[0;36mdefault\u001b[0;34m(self, o)\u001b[0m\n\u001b[1;32m    182\u001b[0m \u001b[0;34m\u001b[0m\u001b[0m\n\u001b[1;32m    183\u001b[0m         \"\"\"\n\u001b[0;32m--> 184\u001b[0;31m         \u001b[0;32mraise\u001b[0m \u001b[0mTypeError\u001b[0m\u001b[0;34m(\u001b[0m\u001b[0mrepr\u001b[0m\u001b[0;34m(\u001b[0m\u001b[0mo\u001b[0m\u001b[0;34m)\u001b[0m \u001b[0;34m+\u001b[0m \u001b[0;34m\" is not JSON serializable\"\u001b[0m\u001b[0;34m)\u001b[0m\u001b[0;34m\u001b[0m\u001b[0m\n\u001b[0m\u001b[1;32m    185\u001b[0m \u001b[0;34m\u001b[0m\u001b[0m\n\u001b[1;32m    186\u001b[0m     \u001b[0;32mdef\u001b[0m \u001b[0mencode\u001b[0m\u001b[0;34m(\u001b[0m\u001b[0mself\u001b[0m\u001b[0;34m,\u001b[0m \u001b[0mo\u001b[0m\u001b[0;34m)\u001b[0m\u001b[0;34m:\u001b[0m\u001b[0;34m\u001b[0m\u001b[0m\n",
      "\u001b[0;31mTypeError\u001b[0m: -3.2773499 is not JSON serializable"
     ]
    }
   ],
   "source": [
    "with open('data5000_everything.json', 'w') as fp:\n",
    "    json.dump(stuff2, fp)"
   ]
  },
  {
   "cell_type": "code",
   "execution_count": 13,
   "metadata": {
    "collapsed": true
   },
   "outputs": [],
   "source": [
    "person_to_boxes = defaultdict(list)\n",
    "person_to_flow = defaultdict(list)\n",
    "person_to_flow_x = defaultdict(list)\n",
    "for entry in stuff[0]:\n",
    "    if stuff[1][entry['person_id']] != \"unknown\":\n",
    "        person_to_boxes[entry['person_id']].append(entry['box'])\n",
    "        person_to_flow[entry['person_id']].append(entry['direction'])\n",
    "        person_to_flow_x[entry['person_id']].append(entry['flow'][0])"
   ]
  },
  {
   "cell_type": "code",
   "execution_count": 14,
   "metadata": {},
   "outputs": [
    {
     "name": "stdout",
     "output_type": "stream",
     "text": [
      "0.740634005764\n",
      "347\n",
      "[2061, 2063, 2064, 31, 2137, 2155, 2156, 2295, 254, 256, 2315, 274, 286, 296, 299, 334, 386, 409, 415, 451, 506, 515, 517, 521, 538, 546, 555, 595, 610, 613, 636, 819, 823, 842, 844, 852, 854, 902, 928, 964, 965, 976, 982, 1000, 1048, 1055, 1062, 1123, 1155, 1247, 1251, 1311, 1313, 1316, 1320, 1321, 1357, 1394, 1435, 1481, 1489, 1537, 1554, 1595, 1601, 1612, 1621, 1633, 1639, 1641, 1650, 1654, 1656, 1664, 1696, 1698, 1700, 1701, 1766, 1772, 1778, 1812, 1820, 1855, 1878, 1881, 1884, 1995, 2023, 2037]\n"
     ]
    }
   ],
   "source": [
    "correct = 0\n",
    "total = 0\n",
    "incorrect1 = []\n",
    "for i in person_to_boxes:\n",
    "    label = stuff[1][i][0]\n",
    "    box = person_to_boxes[i][0]\n",
    "    center_x = (box[3]+box[1])/2.0\n",
    "    if center_x < 0.5 and label == \"l\":\n",
    "        correct+=1\n",
    "    elif center_x >=0.5 and label == \"r\":\n",
    "        correct+=1\n",
    "    else:\n",
    "        incorrect1.append(i)\n",
    "    total+=1\n",
    "print(correct/ (1.0*total))\n",
    "print(total)\n",
    "print(incorrect1)"
   ]
  },
  {
   "cell_type": "code",
   "execution_count": 15,
   "metadata": {},
   "outputs": [
    {
     "name": "stdout",
     "output_type": "stream",
     "text": [
      "0.423631123919\n",
      "[2061, 2063, 2065, 2069, 22, 24, 2090, 2099, 2120, 2137, 2139, 2153, 2155, 2156, 2157, 2163, 130, 138, 2189, 160, 164, 173, 177, 2236, 2246, 2281, 2291, 2295, 254, 256, 263, 2315, 2318, 2321, 274, 276, 279, 282, 286, 296, 299, 322, 326, 369, 395, 409, 453, 467, 492, 506, 515, 516, 517, 518, 521, 525, 527, 533, 538, 548, 553, 556, 597, 598, 637, 656, 693, 740, 760, 785, 815, 819, 823, 824, 828, 838, 842, 850, 852, 854, 879, 883, 887, 891, 898, 902, 911, 928, 939, 948, 951, 965, 968, 969, 970, 971, 972, 974, 976, 978, 979, 995, 998, 1004, 1005, 1018, 1034, 1037, 1052, 1055, 1155, 1158, 1166, 1180, 1182, 1183, 1185, 1186, 1189, 1194, 1199, 1215, 1223, 1225, 1228, 1232, 1242, 1245, 1247, 1248, 1249, 1250, 1251, 1252, 1256, 1262, 1267, 1275, 1278, 1283, 1284, 1287, 1291, 1292, 1293, 1311, 1313, 1316, 1355, 1361, 1384, 1392, 1394, 1402, 1426, 1435, 1442, 1446, 1448, 1458, 1460, 1473, 1474, 1475, 1476, 1481, 1483, 1489, 1490, 1537, 1554, 1595, 1612, 1622, 1641, 1642, 1650, 1654, 1656, 1664, 1669, 1753, 1769, 1772, 1786, 1792, 1795, 1866, 1867, 1869, 1878, 1941, 1944, 1969, 1986, 1995, 2010, 2013, 2023, 2037]\n"
     ]
    }
   ],
   "source": [
    "correct = 0\n",
    "total = 0\n",
    "incorrect2 = []\n",
    "for i in person_to_flow:\n",
    "    label = stuff[1][i][0]\n",
    "    if person_to_flow_x[i][0] <= 0 and label == \"l\":\n",
    "        correct+=1\n",
    "    elif person_to_flow_x[i][0] > 0 and label == \"r\":\n",
    "        correct+=1\n",
    "    else:\n",
    "        incorrect2.append(i)\n",
    "    total+=1\n",
    "print(correct/ (1.0*total))\n",
    "print(incorrect2)"
   ]
  },
  {
   "cell_type": "code",
   "execution_count": null,
   "metadata": {
    "collapsed": true
   },
   "outputs": [],
   "source": [
    "person_to_flow[]"
   ]
  },
  {
   "cell_type": "code",
   "execution_count": 21,
   "metadata": {},
   "outputs": [
    {
     "data": {
      "text/plain": [
       "{254, 256, 274, 286, 296, 299}"
      ]
     },
     "execution_count": 21,
     "metadata": {},
     "output_type": "execute_result"
    }
   ],
   "source": [
    "s1 = set(incorrect1)\n",
    "s2 = set(incorrect2)\n",
    "s1&s2"
   ]
  },
  {
   "cell_type": "code",
   "execution_count": 30,
   "metadata": {
    "collapsed": true
   },
   "outputs": [],
   "source": [
    "path1 = 'video_frames/frame454.jpg'\n",
    "path2 = 'video_frames/frame459.jpg'\n",
    "path3 = 'video_frames/frame201.jpg'\n",
    "\n",
    "# params for ShiTomasi corner detection\n",
    "feature_params = dict( maxCorners = 100,\n",
    "                       qualityLevel = 0.3,\n",
    "                       minDistance = 7,\n",
    "                       blockSize = 7 )\n",
    "# Parameters for lucas kanade optical flow\n",
    "lk_params = dict( winSize  = (15,15),\n",
    "                  maxLevel = 2,\n",
    "                  criteria = (cv2.TERM_CRITERIA_EPS | cv2.TERM_CRITERIA_COUNT, 10, 0.03))\n"
   ]
  },
  {
   "cell_type": "code",
   "execution_count": 31,
   "metadata": {},
   "outputs": [
    {
     "data": {
      "text/plain": [
       "'3.3.0'"
      ]
     },
     "execution_count": 31,
     "metadata": {},
     "output_type": "execute_result"
    }
   ],
   "source": [
    "cv2.__version__"
   ]
  },
  {
   "cell_type": "code",
   "execution_count": 42,
   "metadata": {
    "collapsed": true
   },
   "outputs": [],
   "source": [
    "def get_optical_flow(path1, path2):\n",
    "    print(path1)\n",
    "    print(path2)\n",
    "    frame1 = cv2.imread(path1)\n",
    "    frame2 = cv2.imread(path2)\n",
    "    hsv = np.zeros_like(frame1)\n",
    "    hsv[...,1] = 255\n",
    "    prvs = cv2.cvtColor(frame1, cv2.COLOR_BGR2GRAY)\n",
    "    nxt = cv2.cvtColor(frame2, cv2.COLOR_BGR2GRAY)\n",
    "    #p0 = cv2.goodFeaturesToTrack(prvs, mask = None, **feature_params)\n",
    "    #p1, st, err = cv2.calcOpticalFlowPyrLK(prvs,nxt, p0, None, **lk_params)\n",
    "    #mask = np.zeros_like(frame1)\n",
    "    #print(np.shape(prvs))\n",
    "    #print(np.shape(nxt))\n",
    "    #flow = cv2.calcOpticalFlowFarneback(prvs,nxt,None, 0.5,3.0,15.0,3.0,5.0,1.2,0.0)\n",
    "    #flow = cv2.calcOpticalFlowFarneback(prvs,nxt,0.5,1,3,15,3,5,1,-1)\n",
    "    flow = cv2.calcOpticalFlowFarneback(prvs,nxt, None, 0.5, 3, 15, 3, 5, 1.2, 0)\n",
    "    return flow"
   ]
  },
  {
   "cell_type": "code",
   "execution_count": 43,
   "metadata": {},
   "outputs": [
    {
     "name": "stdout",
     "output_type": "stream",
     "text": [
      "video_frames/frame454.jpg\n",
      "video_frames/frame459.jpg\n"
     ]
    },
    {
     "data": {
      "text/plain": [
       "array([[[  2.54660342e-02,  -3.97697417e-03],\n",
       "        [  3.42693999e-02,  -6.11932017e-03],\n",
       "        [  4.30045761e-02,  -8.95587169e-03],\n",
       "        ..., \n",
       "        [  2.52231769e-03,  -4.13058966e-04],\n",
       "        [  1.15387829e-03,  -2.12281870e-04],\n",
       "        [  3.83248174e-04,  -1.19668846e-04]],\n",
       "\n",
       "       [[  4.05092277e-02,  -2.87246914e-03],\n",
       "        [  5.79183660e-02,  -4.86385077e-03],\n",
       "        [  7.50252232e-02,  -7.79721839e-03],\n",
       "        ..., \n",
       "        [  3.08876787e-03,  -3.15024838e-04],\n",
       "        [  1.55377446e-03,  -9.93537251e-05],\n",
       "        [  6.31574367e-04,  -3.99987548e-05]],\n",
       "\n",
       "       [[  6.74146861e-02,  -3.83336865e-03],\n",
       "        [  9.59740505e-02,  -6.82021398e-03],\n",
       "        [  1.21963412e-01,  -1.10972868e-02],\n",
       "        ..., \n",
       "        [  4.21585655e-03,  -3.97547701e-04],\n",
       "        [  2.32851016e-03,  -9.52896808e-05],\n",
       "        [  1.12048618e-03,  -1.74001689e-05]],\n",
       "\n",
       "       ..., \n",
       "       [[  9.86305968e-05,   6.97549649e-06],\n",
       "        [  1.63860997e-04,   4.50908556e-05],\n",
       "        [  2.57808861e-04,   1.22955375e-04],\n",
       "        ..., \n",
       "        [ -6.13955200e-01,   2.97782589e-02],\n",
       "        [ -2.98486322e-01,   2.49985456e-02],\n",
       "        [ -1.56087562e-01,   1.85898282e-02]],\n",
       "\n",
       "       [[  5.42281887e-05,   4.41754382e-05],\n",
       "        [  1.00762307e-04,   9.21064566e-05],\n",
       "        [  1.60977826e-04,   1.81873867e-04],\n",
       "        ..., \n",
       "        [ -5.18791497e-01,   2.51343362e-02],\n",
       "        [ -2.79775113e-01,   2.28931401e-02],\n",
       "        [ -1.52619928e-01,   1.81910209e-02]],\n",
       "\n",
       "       [[  2.27787550e-05,   3.74671981e-05],\n",
       "        [  5.45719158e-05,   7.96744935e-05],\n",
       "        [  9.82568599e-05,   1.63919220e-04],\n",
       "        ..., \n",
       "        [ -3.48936796e-01,   1.44453989e-02],\n",
       "        [ -2.15036377e-01,   1.57840401e-02],\n",
       "        [ -1.29438713e-01,   1.47269955e-02]]], dtype=float32)"
      ]
     },
     "execution_count": 43,
     "metadata": {},
     "output_type": "execute_result"
    }
   ],
   "source": [
    "get_optical_flow(path1, path2)"
   ]
  },
  {
   "cell_type": "code",
   "execution_count": null,
   "metadata": {
    "collapsed": true
   },
   "outputs": [],
   "source": [
    "person_to_boxes = defaultdict(list)\n",
    "for entry in stuff[0]:\n",
    "    if stuff[1][entry['person_id']] != \"unknown\":\n",
    "        person_to_boxes[entry['person_id']].append(entry['box'])"
   ]
  },
  {
   "cell_type": "code",
   "execution_count": null,
   "metadata": {
    "collapsed": true
   },
   "outputs": [],
   "source": [
    "correct = 0\n",
    "for i in person_to_boxes:\n",
    "    label = stuff[1][i][0]\n",
    "    box = person_to_boxes[i][0]\n",
    "    center_x = (box[3]+box[1])/2.0\n",
    "    if center_x < 0.5 and label == \"l\":\n",
    "        correct+=1\n",
    "    if center_x >=0.5 and label == \"r\":\n",
    "        correct+=1\n",
    "print(correct)"
   ]
  }
 ],
 "metadata": {
  "kernelspec": {
   "display_name": "Python 2",
   "language": "python",
   "name": "python2"
  },
  "language_info": {
   "codemirror_mode": {
    "name": "ipython",
    "version": 2
   },
   "file_extension": ".py",
   "mimetype": "text/x-python",
   "name": "python",
   "nbconvert_exporter": "python",
   "pygments_lexer": "ipython2",
   "version": "2.7.13"
  }
 },
 "nbformat": 4,
 "nbformat_minor": 2
}
