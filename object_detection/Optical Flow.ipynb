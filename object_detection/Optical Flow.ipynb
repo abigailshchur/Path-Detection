{
 "cells": [
  {
   "cell_type": "code",
   "execution_count": 11,
   "metadata": {
    "collapsed": true
   },
   "outputs": [],
   "source": [
    "import json\n",
    "import numpy as np\n",
    "import cv2"
   ]
  },
  {
   "cell_type": "code",
   "execution_count": 12,
   "metadata": {},
   "outputs": [],
   "source": [
    "with open('saved_frame_data/T_1_everything.json') as data_file:    \n",
    "    all_data = json.load(data_file)"
   ]
  },
  {
   "cell_type": "code",
   "execution_count": 13,
   "metadata": {
    "collapsed": true
   },
   "outputs": [],
   "source": [
    "with open('saved_frame_data/T_1_labels.json') as data_file:    \n",
    "    all_labels = json.load(data_file)"
   ]
  },
  {
   "cell_type": "code",
   "execution_count": 14,
   "metadata": {
    "collapsed": true
   },
   "outputs": [],
   "source": [
    "def get_optical_flow(path1, path2, c):\n",
    "    if path2 == \"end\":\n",
    "        return \"nah\"\n",
    "    frame1 = cv2.imread(path1)\n",
    "    frame2 = cv2.imread(path2)\n",
    "    hsv = np.zeros_like(frame1)\n",
    "    hsv[...,1] = 255\n",
    "    prvs = cv2.cvtColor(frame1, cv2.COLOR_BGR2GRAY)\n",
    "    nxt = cv2.cvtColor(frame2, cv2.COLOR_BGR2GRAY)\n",
    "    flow = cv2.calcOpticalFlowFarneback(prvs,nxt, None, 0.5, 3, 15, 3, 7, 1.2, 0)\n",
    "    return flow"
   ]
  },
  {
   "cell_type": "code",
   "execution_count": 15,
   "metadata": {
    "collapsed": true
   },
   "outputs": [],
   "source": [
    "def get_optical_flow_vector(flow, box, X_SIZE, Y_SIZE):\n",
    "    if flow == \"nah\":\n",
    "        return \"nah\"\n",
    "    if flow != []:\n",
    "        box = [int(box[0]*Y_SIZE),int(box[1]*X_SIZE), int(box[2]*Y_SIZE), int(box[3]*X_SIZE)]\n",
    "        xflow = []\n",
    "        yflow = []\n",
    "        for i in range(box[1],box[3]):\n",
    "            for j in range(box[0],box[2]):\n",
    "                xflow.append(flow[i][j][0])\n",
    "                yflow.append(flow[i][j][1])\n",
    "        #boxflow = [xflow,yflow]\n",
    "        boxflow = [yflow,xflow]\n",
    "        #print boxflow\n",
    "        x = np.mean(boxflow[0])\n",
    "        y = np.mean(boxflow[1])\n",
    "        return [x,y]\n",
    "    else:\n",
    "        return None"
   ]
  },
  {
   "cell_type": "code",
   "execution_count": 16,
   "metadata": {
    "collapsed": true
   },
   "outputs": [],
   "source": [
    "def get_optical_flow_vector2(flow, box, X_SIZE, Y_SIZE):\n",
    "    if flow == \"nah\":\n",
    "        return \"nah\"\n",
    "    l_count_x = []; l_count_y = []; r_count_x = []; r_count_y = []\n",
    "    if flow != []:\n",
    "        box = [int(box[0]*Y_SIZE),int(box[1]*X_SIZE), int(box[2]*Y_SIZE), int(box[3]*X_SIZE)]\n",
    "        #print(box)\n",
    "        for i in range(box[1],box[3]):\n",
    "            for j in range(box[0],box[2]):\n",
    "                if bucket_vectors(flow[i][j]) is \"left\":\n",
    "                    l_count_x.append(flow[i][j][0])\n",
    "                    l_count_y.append(flow[i][j][1])\n",
    "                else:\n",
    "                    r_count_x.append(flow[i][j][0])\n",
    "                    r_count_y.append(flow[i][j][1])\n",
    "        if len(l_count_x) >= len(r_count_x):\n",
    "            #boxflow = [l_count_x,l_count_y]\n",
    "            boxflow = [l_count_y,l_count_x]\n",
    "        else:\n",
    "            #boxflow = [r_count_x,r_count_y]\n",
    "            boxflow = [r_count_y,r_count_x]\n",
    "        #print boxflow\n",
    "        x = np.mean(boxflow[0])\n",
    "        y = np.mean(boxflow[1])\n",
    "        return [x,y]\n",
    "    else:\n",
    "        return None"
   ]
  },
  {
   "cell_type": "code",
   "execution_count": 17,
   "metadata": {
    "collapsed": true
   },
   "outputs": [],
   "source": [
    "def bucket_vectors(vect):\n",
    "    if vect == \"nah\":\n",
    "        return \"nah\"\n",
    "    v1 = np.array([vect[0]])\n",
    "    v2 = np.array([vect[1]])\n",
    "    mag, ang = cv2.cartToPolar(v1, v2, angleInDegrees = 1)\n",
    "    if ang > 90 and ang < 270:\n",
    "        return \"left\"\n",
    "    else:\n",
    "        return \"right\""
   ]
  },
  {
   "cell_type": "code",
   "execution_count": 18,
   "metadata": {},
   "outputs": [
    {
     "name": "stdout",
     "output_type": "stream",
     "text": [
      "42435\n"
     ]
    },
    {
     "name": "stderr",
     "output_type": "stream",
     "text": [
      "/anaconda/lib/python2.7/site-packages/ipykernel_launcher.py:2: FutureWarning: elementwise comparison failed; returning scalar instead, but in the future will perform elementwise comparison\n",
      "  \n",
      "/anaconda/lib/python2.7/site-packages/ipykernel_launcher.py:4: DeprecationWarning: elementwise != comparison failed; this will raise an error in the future.\n",
      "  after removing the cwd from sys.path.\n",
      "/anaconda/lib/python2.7/site-packages/ipykernel_launcher.py:5: DeprecationWarning: elementwise != comparison failed; this will raise an error in the future.\n",
      "  \"\"\"\n"
     ]
    }
   ],
   "source": [
    "path = 'video_frames/frame'\n",
    "base_img = cv2.imread(path+\"0.jpg\")\n",
    "X_SIZE, Y_SIZE, channels = base_img.shape\n",
    "last_file = 10\n",
    "new_data = []\n",
    "print(len(all_data))\n",
    "for i in range(len(all_data)):\n",
    "    data_elem = all_data[i]\n",
    "    box = data_elem['box']\n",
    "    f = data_elem['file']\n",
    "    current_frame = int(f[f.find('/frame')+len('/frame'):f.find('.jpg')])\n",
    "    if (current_frame + 6 >= last_file):\n",
    "        flow = \"nah\"\n",
    "    else:\n",
    "        flow = get_optical_flow(path + str(current_frame) +'.jpg', path+str(current_frame+6)+'.jpg',0)\n",
    "    flow1 = get_optical_flow_vector(flow, box, X_SIZE, Y_SIZE)\n",
    "    flow2 = get_optical_flow_vector2(flow, box, X_SIZE, Y_SIZE)\n",
    "    flow1_dir = bucket_vectors(flow1)\n",
    "    flow2_dir = bucket_vectors(flow2)\n",
    "    if (current_frame + 6 >= last_file):\n",
    "        data_elem['flow'] = \"nah\"\n",
    "        data_elem['flow2'] = \"nah\"\n",
    "    else:\n",
    "        data_elem['flow'] = [float(flow1[0]), float(flow1[1])]\n",
    "        data_elem['flow2'] = [float(flow2[0]), float(flow2[1])]\n",
    "    data_elem['direction'] = flow1_dir\n",
    "    data_elem['direction2'] = flow2_dir\n",
    "    new_data.append(data_elem)"
   ]
  },
  {
   "cell_type": "code",
   "execution_count": 19,
   "metadata": {},
   "outputs": [
    {
     "data": {
      "text/plain": [
       "42435"
      ]
     },
     "execution_count": 19,
     "metadata": {},
     "output_type": "execute_result"
    }
   ],
   "source": [
    "len(new_data)"
   ]
  },
  {
   "cell_type": "code",
   "execution_count": 20,
   "metadata": {},
   "outputs": [],
   "source": [
    "with open('T_1_2_everything.json', 'w') as fp:\n",
    "    json.dump(new_data, fp)"
   ]
  },
  {
   "cell_type": "code",
   "execution_count": null,
   "metadata": {
    "collapsed": true
   },
   "outputs": [],
   "source": []
  }
 ],
 "metadata": {
  "kernelspec": {
   "display_name": "Python 2",
   "language": "python",
   "name": "python2"
  },
  "language_info": {
   "codemirror_mode": {
    "name": "ipython",
    "version": 2
   },
   "file_extension": ".py",
   "mimetype": "text/x-python",
   "name": "python",
   "nbconvert_exporter": "python",
   "pygments_lexer": "ipython2",
   "version": "2.7.13"
  }
 },
 "nbformat": 4,
 "nbformat_minor": 2
}
